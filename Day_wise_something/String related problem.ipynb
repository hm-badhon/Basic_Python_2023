{
 "cells": [
  {
   "cell_type": "code",
   "execution_count": null,
   "id": "fc7fd669",
   "metadata": {},
   "outputs": [],
   "source": [
    "def merge_the_tools(string, k):\n",
    "    # your code goes here\n",
    "    temp = []\n",
    "    len_temp = 0\n",
    "    \n",
    "    for item in string:\n",
    "        len_temp += 1\n",
    "        \n",
    "        if item not in temp:\n",
    "            temp.append(item)\n",
    "            \n",
    "        if len_temp == k:\n",
    "            print (''.join(temp))\n",
    "            \n",
    "            temp = []\n",
    "            len_temp = 0\n",
    "            \n",
    "if __name__ == '__main__':\n",
    "    string, k = input(), int(input())\n",
    "    merge_the_tools(string, k)\n"
   ]
  },
  {
   "cell_type": "code",
   "execution_count": 5,
   "id": "fdac0cf9",
   "metadata": {},
   "outputs": [
    {
     "name": "stdout",
     "output_type": "stream",
     "text": [
      "nameTESTcountry\n"
     ]
    }
   ],
   "source": [
    "myDict = {\"name\": \"John\", \"country\": \"Norway\"}\n",
    "mySeparator = \"TEST\"\n",
    "\n",
    "x = mySeparator.join(myDict)\n",
    "\n",
    "print(x)\n"
   ]
  },
  {
   "cell_type": "code",
   "execution_count": 12,
   "id": "ba9525f4",
   "metadata": {},
   "outputs": [
    {
     "name": "stdout",
     "output_type": "stream",
     "text": [
      "AAASSSS\n",
      "3\n"
     ]
    }
   ],
   "source": [
    "def marge(string,k):\n",
    "    n=len(string)\n",
    "    \n",
    "    result=[]\n",
    "    \n",
    "    for i in range(0,n,k):\n",
    "        result.append(\"\".join(dict.fromkeys(string[i:i+1])))\n",
    "    print(\"\\n\".join(result))\n",
    "\n",
    "  \n",
    "\n",
    "string,k= input(),int(input())\n"
   ]
  },
  {
   "cell_type": "code",
   "execution_count": 18,
   "id": "6319a425",
   "metadata": {},
   "outputs": [
    {
     "name": "stdout",
     "output_type": "stream",
     "text": [
      "aaasssfddfdgf\n",
      "4\n",
      "as\n",
      "sfd\n",
      "dfg\n",
      "f\n"
     ]
    }
   ],
   "source": [
    "def merge_the_tools(string, k):\n",
    "    n = len(string)\n",
    "    m = int(n/k)\n",
    "    result = []\n",
    "    for i in range(0,n,k):\n",
    "        result.append(\"\".join(dict.fromkeys(string[i:i+k])))\n",
    "    print(\"\\n\".join(result))\n",
    "string,k= input(),int(input())\n",
    "merge_the_tools(string, k)\n"
   ]
  },
  {
   "cell_type": "code",
   "execution_count": 4,
   "id": "665b8987",
   "metadata": {},
   "outputs": [
    {
     "name": "stdout",
     "output_type": "stream",
     "text": [
      "aaaasss\n",
      "2\n",
      "a\n",
      "a\n",
      "s\n",
      "s\n"
     ]
    }
   ],
   "source": [
    "def merge(string,k):\n",
    "    n=len(string)\n",
    "    m=n/k\n",
    "    result=[]\n",
    "    for i in range(0,n,k):\n",
    "        result.append(''.join(dict.fromkeys(string[i:i+1])))\n",
    "    print(\"\\n\".join(result))\n",
    "string,k=input(),int(input())\n",
    "merge(string,k)\n"
   ]
  },
  {
   "cell_type": "code",
   "execution_count": 12,
   "id": "b00e487f",
   "metadata": {},
   "outputs": [
    {
     "name": "stdout",
     "output_type": "stream",
     "text": [
      "aaas\n",
      "2\n",
      "a\n",
      "as\n"
     ]
    }
   ],
   "source": [
    "def merge(string,k):\n",
    "    n=len(string)\n",
    "    result=[]\n",
    "    for i in range(0,n,k):\n",
    "        result.append(\"\".join(dict.fromkeys(string[i:i+k])))\n",
    "    print(\"\\n\".join(result))\n",
    "string,k= input(),int(input())\n",
    "merge(string,k)\n",
    "\n"
   ]
  },
  {
   "cell_type": "code",
   "execution_count": 13,
   "id": "a900a0b8",
   "metadata": {},
   "outputs": [
    {
     "name": "stdout",
     "output_type": "stream",
     "text": [
      "a\n"
     ]
    },
    {
     "ename": "NameError",
     "evalue": "name 'aeiou' is not defined",
     "output_type": "error",
     "traceback": [
      "\u001b[0;31m---------------------------------------------------------------------------\u001b[0m",
      "\u001b[0;31mNameError\u001b[0m                                 Traceback (most recent call last)",
      "Input \u001b[0;32mIn [13]\u001b[0m, in \u001b[0;36m<cell line: 5>\u001b[0;34m()\u001b[0m\n\u001b[1;32m      5\u001b[0m \u001b[38;5;28;01mif\u001b[39;00m \u001b[38;5;18m__name__\u001b[39m \u001b[38;5;241m==\u001b[39m \u001b[38;5;124m'\u001b[39m\u001b[38;5;124m__main__\u001b[39m\u001b[38;5;124m'\u001b[39m:\n\u001b[1;32m      6\u001b[0m     s \u001b[38;5;241m=\u001b[39m \u001b[38;5;28minput\u001b[39m()\n\u001b[0;32m----> 7\u001b[0m     \u001b[43mminion_game\u001b[49m\u001b[43m(\u001b[49m\u001b[43ms\u001b[49m\u001b[43m)\u001b[49m\n",
      "Input \u001b[0;32mIn [13]\u001b[0m, in \u001b[0;36mminion_game\u001b[0;34m(string)\u001b[0m\n\u001b[1;32m      1\u001b[0m \u001b[38;5;28;01mdef\u001b[39;00m \u001b[38;5;21mminion_game\u001b[39m(string):\n\u001b[0;32m----> 2\u001b[0m     vowel\u001b[38;5;241m=\u001b[39m[\u001b[43maeiou\u001b[49m]\n\u001b[1;32m      3\u001b[0m     \u001b[38;5;28mprint\u001b[39m(vowel)\n",
      "\u001b[0;31mNameError\u001b[0m: name 'aeiou' is not defined"
     ]
    }
   ],
   "source": [
    "def minion_game(string):\n",
    "    c\n",
    "    \n",
    "if __name__ == '__main__':\n",
    "    s = input()\n",
    "    minion_game(s)"
   ]
  },
  {
   "cell_type": "code",
   "execution_count": 36,
   "id": "8c67c3f7",
   "metadata": {},
   "outputs": [
    {
     "name": "stdout",
     "output_type": "stream",
     "text": [
      "badhon\n",
      "Stuart  21\n"
     ]
    }
   ],
   "source": [
    "s=input()\n",
    "\n",
    "vowels = 'AEIOU'\n",
    "\n",
    "kal = 0\n",
    "stu = 0\n",
    "\n",
    "for i in range(len(s)):\n",
    "    if s[i] in vowels:\n",
    "        kal += (len(s)-i)\n",
    "    else:\n",
    "        stu += (len(s)-i)\n",
    "        \n",
    "if kal > stu:\n",
    "    print ()\n",
    "elif stu>kal:\n",
    "    print \"Stuart\",stu\n",
    "else:\n",
    "    print(\"Draw\")"
   ]
  },
  {
   "cell_type": "code",
   "execution_count": 32,
   "id": "36437cca",
   "metadata": {},
   "outputs": [
    {
     "ename": "SyntaxError",
     "evalue": "invalid syntax (1680222140.py, line 1)",
     "output_type": "error",
     "traceback": [
      "\u001b[0;36m  Input \u001b[0;32mIn [32]\u001b[0;36m\u001b[0m\n\u001b[0;31m    else:\u001b[0m\n\u001b[0m    ^\u001b[0m\n\u001b[0;31mSyntaxError\u001b[0m\u001b[0;31m:\u001b[0m invalid syntax\n"
     ]
    }
   ],
   "source": []
  },
  {
   "cell_type": "code",
   "execution_count": null,
   "id": "e3ad13f8",
   "metadata": {},
   "outputs": [],
   "source": []
  },
  {
   "cell_type": "code",
   "execution_count": null,
   "id": "aa6746b4",
   "metadata": {},
   "outputs": [],
   "source": []
  },
  {
   "cell_type": "code",
   "execution_count": null,
   "id": "afd759ff",
   "metadata": {},
   "outputs": [],
   "source": []
  },
  {
   "cell_type": "code",
   "execution_count": null,
   "id": "a24a74f0",
   "metadata": {},
   "outputs": [],
   "source": []
  },
  {
   "cell_type": "code",
   "execution_count": null,
   "id": "966b1bf5",
   "metadata": {},
   "outputs": [],
   "source": []
  },
  {
   "cell_type": "code",
   "execution_count": null,
   "id": "b8d57ad8",
   "metadata": {},
   "outputs": [],
   "source": []
  },
  {
   "cell_type": "code",
   "execution_count": null,
   "id": "55778efd",
   "metadata": {},
   "outputs": [],
   "source": []
  },
  {
   "cell_type": "code",
   "execution_count": null,
   "id": "0a77e385",
   "metadata": {},
   "outputs": [],
   "source": []
  },
  {
   "cell_type": "code",
   "execution_count": null,
   "id": "82c2831f",
   "metadata": {},
   "outputs": [],
   "source": []
  },
  {
   "cell_type": "code",
   "execution_count": null,
   "id": "305ad508",
   "metadata": {},
   "outputs": [],
   "source": []
  }
 ],
 "metadata": {
  "kernelspec": {
   "display_name": "Python 3 (ipykernel)",
   "language": "python",
   "name": "python3"
  },
  "language_info": {
   "codemirror_mode": {
    "name": "ipython",
    "version": 3
   },
   "file_extension": ".py",
   "mimetype": "text/x-python",
   "name": "python",
   "nbconvert_exporter": "python",
   "pygments_lexer": "ipython3",
   "version": "3.9.12"
  }
 },
 "nbformat": 4,
 "nbformat_minor": 5
}
