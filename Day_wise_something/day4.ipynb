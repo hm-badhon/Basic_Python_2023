{
 "cells": [
  {
   "cell_type": "code",
   "execution_count": 1,
   "id": "e777d148",
   "metadata": {},
   "outputs": [
    {
     "name": "stdout",
     "output_type": "stream",
     "text": [
      "I have 5 heads and I'm Black\n",
      "I also have 4 heads and I'm Yellow\n",
      "I got 3 heads and I'm Red\n"
     ]
    }
   ],
   "source": [
    "# The blueprint to create monsters\n",
    "class Monster:\n",
    "    def __init__(self, color, heads):\n",
    "        self.color = color\n",
    "        self.heads = heads\n",
    "\n",
    "# Create some real monsters\n",
    "fogthing = Monster(\"Black\", 5)\n",
    "mournsnake = Monster(\"Yellow\", 4)\n",
    "tangleface = Monster(\"Red\", 3)\n",
    "\n",
    "# Check whether those monsters got different existence in memory or not\n",
    "print('I have ' + str(fogthing.heads) + ' heads and I\\'m ' + fogthing.color)\n",
    "print('I also have ' + str(mournsnake.heads) + ' heads and I\\'m ' + mournsnake.color)\n",
    "print('I got ' + str(tangleface.heads) + ' heads and I\\'m ' + tangleface.color)"
   ]
  },
  {
   "cell_type": "code",
   "execution_count": 2,
   "id": "6986c8b5",
   "metadata": {},
   "outputs": [
    {
     "name": "stdout",
     "output_type": "stream",
     "text": [
      "I am a Yellow headed monster.\n",
      "Just attacked a Hero, Mu...hahahaha!!!\n"
     ]
    }
   ],
   "source": [
    "class Monster:\n",
    "    def __init__(self, color, heads):\n",
    "        self.color = color\n",
    "        self.heads = heads\n",
    "\n",
    "    def attack(self):\n",
    "        print(\"Just attacked a Hero, Mu...hahahaha!!!\")\n",
    "\n",
    "# Create an instance/object/monster-character\n",
    "mournsnake = Monster( 4,\"Yellow\")\n",
    "# Check if its created or not\n",
    "print('I am a ' + str(mournsnake.heads) + ' headed monster.')\n",
    "# Make an attack by the new monster\n",
    "mournsnake.attack()"
   ]
  },
  {
   "cell_type": "code",
   "execution_count": 3,
   "id": "f3d472c8",
   "metadata": {},
   "outputs": [
    {
     "name": "stdout",
     "output_type": "stream",
     "text": [
      "I am a 4 headed negative character\n",
      "I am a 3 headed negative character\n"
     ]
    }
   ],
   "source": [
    "class Monster:\n",
    "    identity = \"negative character\"\n",
    "\n",
    "    def __init__(self, color, heads):\n",
    "        self.color = color\n",
    "        self.heads = heads\n",
    "\n",
    "    def attack(self):\n",
    "        print(\"Just attacked a Hero, Mu...hahahaha!!!\")\n",
    "\n",
    "\n",
    "mournsnake = Monster(\"Yellow\", 4)\n",
    "tangleface = Monster(\"Red\", 3)\n",
    "\n",
    "print('I am a ' + str(mournsnake.heads) + ' headed ' + mournsnake.identity)\n",
    "print('I am a ' + str(tangleface.heads) + ' headed ' + tangleface.identity)"
   ]
  },
  {
   "cell_type": "code",
   "execution_count": 7,
   "id": "32d48de9",
   "metadata": {},
   "outputs": [
    {
     "name": "stdout",
     "output_type": "stream",
     "text": [
      "I am killing ....\n",
      "Grrrrr \n",
      "\n"
     ]
    }
   ],
   "source": [
    "class Monster:\n",
    "    def __init__(self,name,color):\n",
    "        self.name= name\n",
    "        self.color= color\n",
    "        \n",
    "        def attak(self):\n",
    "            print('I am attacking . . .')\n",
    "            \n",
    "class Fogthing(Monster):\n",
    "    def attack(self):\n",
    "        print('I am killing ....')\n",
    "        \n",
    "    def make_sound(self):\n",
    "        print('Grrrrr \\n')\n",
    "        \n",
    "    \n",
    "fogthing = Fogthing(\"Fogthing\",\"yellow\")\n",
    "fogthing.attack()\n",
    "fogthing.make_sound()\n",
    "            \n",
    "            \n",
    "            \n",
    "            \n",
    "            \n",
    "            \n",
    "            \n",
    "            \n",
    "            \n",
    "            \n",
    "            \n",
    "            \n",
    "            \n",
    "            \n",
    "            \n",
    "            \n",
    "            \n",
    "            \n",
    "            \n",
    "            "
   ]
  },
  {
   "cell_type": "code",
   "execution_count": 8,
   "id": "95cbc05f",
   "metadata": {},
   "outputs": [
    {
     "name": "stdout",
     "output_type": "stream",
     "text": [
      "I am attacking...\n",
      "Grrrrrrrrrr\n",
      "\n",
      "I am attacking...\n",
      "Hiiissssshhhh\n",
      "\n"
     ]
    }
   ],
   "source": [
    "class Monster:\n",
    "    def __init__(self, name, color):\n",
    "        self.name = name\n",
    "        self.color = color\n",
    "\n",
    "    def attack(self):\n",
    "        print('I am attacking...')\n",
    "\n",
    "\n",
    "class Fogthing(Monster):\n",
    "    def make_sound(self):\n",
    "        print('Grrrrrrrrrr\\n')\n",
    "\n",
    "\n",
    "class Mournsnake(Monster):\n",
    "    def make_sound(self):\n",
    "        print('Hiiissssshhhh\\n')\n",
    "\n",
    "\n",
    "fogthing = Fogthing(\"Fogthing\", \"Yellow\")\n",
    "fogthing.attack()\n",
    "fogthing.make_sound()\n",
    "\n",
    "mournsnake = Mournsnake(\"Mournsnake\", \"Red\")\n",
    "mournsnake.attack()\n",
    "mournsnake.make_sound()"
   ]
  },
  {
   "cell_type": "code",
   "execution_count": 15,
   "id": "bffbd84d",
   "metadata": {},
   "outputs": [
    {
     "name": "stdout",
     "output_type": "stream",
     "text": [
      "Walking 1\n",
      "Walking 2 \n",
      "Walking 1\n"
     ]
    }
   ],
   "source": [
    "class A:\n",
    "    def featrer1(self):\n",
    "        print('Walking 1')\n",
    "    def featrer2(self):\n",
    "        print('Walking 2 ')\n",
    "\n",
    "class B:\n",
    "    def featrer3(self):\n",
    "        print('Walking 1')\n",
    "    def featrer4(self):\n",
    "        print('Walking 2 ')\n",
    "        \n",
    "class C(A,B):\n",
    "    def featrer5(self):\n",
    "        print('Walking 1')\n",
    "    def featrer6(self):\n",
    "        print('Walking 2 ')       \n",
    "        \n",
    "a1=A()\n",
    "\n",
    "a1.featrer1()\n",
    "a1.featrer2()\n",
    "\n",
    "b1=B()\n",
    "\n",
    "b1.featrer3()\n",
    "\n",
    "\n"
   ]
  },
  {
   "cell_type": "code",
   "execution_count": 16,
   "id": "1b3f8618",
   "metadata": {},
   "outputs": [
    {
     "name": "stdout",
     "output_type": "stream",
     "text": [
      "I am killing...\n",
      "Grrrrrrrrrr\n",
      "\n"
     ]
    }
   ],
   "source": [
    "\n",
    "class Monster:\n",
    "    def __init__(self, name, color):\n",
    "        self.name = name\n",
    "        self.color = color\n",
    "\n",
    "    def attack(self):\n",
    "        print('I am attacking...')\n",
    "\n",
    "\n",
    "class Fogthing(Monster):\n",
    "    def attack(self):\n",
    "        print('I am killing...')\n",
    "\n",
    "    def make_sound(self):\n",
    "        print('Grrrrrrrrrr\\n')\n",
    "\n",
    "\n",
    "fogthing = Fogthing(\"Fogthing\", \"Yellow\")\n",
    "fogthing.attack()\n",
    "fogthing.make_sound()"
   ]
  },
  {
   "cell_type": "code",
   "execution_count": 17,
   "id": "4339f0ec",
   "metadata": {},
   "outputs": [
    {
     "name": "stdout",
     "output_type": "stream",
     "text": [
      "I am from class A\n"
     ]
    }
   ],
   "source": [
    "class A:\n",
    "    def where(self):\n",
    "        print(\"I am from class A\")\n",
    "\n",
    "\n",
    "class B:\n",
    "    def where(self):\n",
    "        print(\"I am from class B\")\n",
    "\n",
    "\n",
    "class C(A, B):\n",
    "    pass\n",
    "\n",
    "an_instance_of_c = C()\n",
    "an_instance_of_c.where()"
   ]
  },
  {
   "cell_type": "code",
   "execution_count": 19,
   "id": "2f2c4c12",
   "metadata": {},
   "outputs": [
    {
     "name": "stdout",
     "output_type": "stream",
     "text": [
      "2\n",
      "1\n"
     ]
    }
   ],
   "source": [
    "class A:\n",
    "    def spam(self):\n",
    "        print(1)\n",
    "        \n",
    "class B(A):\n",
    "    def spam(self):\n",
    "        print(2)\n",
    "        super().spam()\n",
    "        \n",
    "B().spam()"
   ]
  },
  {
   "cell_type": "code",
   "execution_count": 21,
   "id": "16d1e999",
   "metadata": {},
   "outputs": [
    {
     "ename": "SyntaxError",
     "evalue": "invalid syntax (546631216.py, line 11)",
     "output_type": "error",
     "traceback": [
      "\u001b[0;36m  Input \u001b[0;32mIn [21]\u001b[0;36m\u001b[0m\n\u001b[0;31m    print obj.Add()\u001b[0m\n\u001b[0m          ^\u001b[0m\n\u001b[0;31mSyntaxError\u001b[0m\u001b[0;31m:\u001b[0m invalid syntax\n"
     ]
    }
   ],
   "source": [
    "## Definition\n",
    "class Add:\n",
    "## Initialization\n",
    "    def __init__(self,a,b):\n",
    "        self.a = a\n",
    "        self.b = b\n",
    "    def add(self):\n",
    "        return self.a+self.b\n",
    "obj = Add(3,4)\n",
    "## Access\n",
    "print obj.Add()\n",
    "## Garbage collection"
   ]
  },
  {
   "cell_type": "code",
   "execution_count": 22,
   "id": "494b5fda",
   "metadata": {},
   "outputs": [
    {
     "name": "stdout",
     "output_type": "stream",
     "text": [
      "[1, 2, 3]\n",
      "[0, 1, 2, 3]\n",
      "[0, 1, 2]\n",
      "[0, 1, 2]\n"
     ]
    }
   ],
   "source": [
    "class Queue:\n",
    "    def __init__(self, contents):\n",
    "        self._hiddenlist = list(contents)\n",
    "\n",
    "    def push(self, value):\n",
    "        self._hiddenlist.insert(0, value)\n",
    "\n",
    "    def pop(self):\n",
    "        return self._hiddenlist.pop(-1)\n",
    "\n",
    "    def _show_list(self):\n",
    "        return self._hiddenlist\n",
    "\n",
    "\n",
    "queue = Queue([1, 2, 3])\n",
    "print(queue._hiddenlist)\n",
    "\n",
    "queue.push(0)\n",
    "print(queue._hiddenlist)\n",
    "\n",
    "queue.pop()\n",
    "print(queue._hiddenlist)\n",
    "\n",
    "print(queue._show_list())"
   ]
  },
  {
   "cell_type": "code",
   "execution_count": 27,
   "id": "67d7271b",
   "metadata": {},
   "outputs": [
    {
     "name": "stdout",
     "output_type": "stream",
     "text": [
      "7\n",
      "7\n"
     ]
    }
   ],
   "source": [
    "class Spam:\n",
    "    __egg= 7\n",
    "    def print_egg(self):\n",
    "        print(self.__egg)\n",
    "        \n",
    "s = Spam()\n",
    "s.print_egg()\n",
    "print(s._Spam__egg)"
   ]
  },
  {
   "cell_type": "code",
   "execution_count": 37,
   "id": "ecfc2214",
   "metadata": {},
   "outputs": [
    {
     "name": "stdout",
     "output_type": "stream",
     "text": [
      "16.666666666666668\n",
      "sdjfhsdjfhaljdsfhajhf\n",
      "None\n"
     ]
    }
   ],
   "source": [
    "class Student:\n",
    "    school = 'Badhon'\n",
    "    \n",
    "    \n",
    "    def __init__(self,m1,m2,m3):\n",
    "        self.m1= m1\n",
    "        self.m2= m2\n",
    "        self.m3= m3\n",
    "        \n",
    "    def avg(self):\n",
    "        return (self.m1+self.m2+self.m3)/3\n",
    "    \n",
    "    ##Get this value\n",
    "    def get_m1(self):\n",
    "        return self.m1\n",
    "    \n",
    "    ## set this value \n",
    "    def set_m1(self,value):\n",
    "        self.m1 =value\n",
    "      \n",
    "    @classmethod\n",
    "    def info(cls):\n",
    "        return cls.school\n",
    "\n",
    "    \n",
    "    @staticmethod\n",
    "    def info():\n",
    "        print(\"sdjfhsdjfhaljdsfhajhf\")\n",
    "    \n",
    "    \n",
    "s1 = Student(12,3,35)\n",
    "s2 = Student(45,65,8)\n",
    "\n",
    "\n",
    "print(s1.avg())\n",
    "\n",
    "print(Student.info())\n",
    "\n",
    "\n",
    "\n",
    "\n",
    "\n",
    "\n"
   ]
  },
  {
   "cell_type": "code",
   "execution_count": 38,
   "id": "86567ee5",
   "metadata": {},
   "outputs": [
    {
     "name": "stdout",
     "output_type": "stream",
     "text": [
      "25\n"
     ]
    }
   ],
   "source": [
    "class Rectangle:\n",
    "    def __init__(self, width, height):\n",
    "        self.width = width\n",
    "        self.height = height\n",
    "\n",
    "    def calculate_area(self):\n",
    "        return self.width * self.height\n",
    "\n",
    "    @classmethod\n",
    "    def new_square(cls, side_length):\n",
    "        return cls(side_length, side_length)\n",
    "\n",
    "square = Rectangle.new_square(5)\n",
    "print(square.calculate_area())"
   ]
  },
  {
   "cell_type": "code",
   "execution_count": 40,
   "id": "8535ebf2",
   "metadata": {},
   "outputs": [],
   "source": [
    "class Pizza:\n",
    "    def __init__(self, toppings):\n",
    "        self.toppings = toppings\n",
    "\n",
    "    @staticmethod\n",
    "    def validate_topping(topping):\n",
    "        if topping == \"pineapple\":\n",
    "            raise ValueError(\"No pineapples!\")\n",
    "        else:\n",
    "            return True\n",
    "\n",
    "ingredients = [\"cheese\", \"onions\", \"spam\"]\n",
    "if all(Pizza.validate_topping(i) for i in ingredients):\n",
    "    pizza = Pizza(ingredients)"
   ]
  },
  {
   "cell_type": "code",
   "execution_count": null,
   "id": "3381bdfa",
   "metadata": {},
   "outputs": [],
   "source": []
  },
  {
   "cell_type": "code",
   "execution_count": null,
   "id": "e09597dc",
   "metadata": {},
   "outputs": [],
   "source": []
  },
  {
   "cell_type": "code",
   "execution_count": null,
   "id": "661e4b0b",
   "metadata": {},
   "outputs": [],
   "source": []
  },
  {
   "cell_type": "code",
   "execution_count": null,
   "id": "257a8aea",
   "metadata": {},
   "outputs": [],
   "source": []
  },
  {
   "cell_type": "code",
   "execution_count": null,
   "id": "0957f904",
   "metadata": {},
   "outputs": [],
   "source": []
  },
  {
   "cell_type": "code",
   "execution_count": null,
   "id": "42fc02c3",
   "metadata": {},
   "outputs": [],
   "source": []
  },
  {
   "cell_type": "code",
   "execution_count": null,
   "id": "7f148939",
   "metadata": {},
   "outputs": [],
   "source": []
  },
  {
   "cell_type": "code",
   "execution_count": null,
   "id": "105cf541",
   "metadata": {},
   "outputs": [],
   "source": []
  }
 ],
 "metadata": {
  "kernelspec": {
   "display_name": "Python 3 (ipykernel)",
   "language": "python",
   "name": "python3"
  },
  "language_info": {
   "codemirror_mode": {
    "name": "ipython",
    "version": 3
   },
   "file_extension": ".py",
   "mimetype": "text/x-python",
   "name": "python",
   "nbconvert_exporter": "python",
   "pygments_lexer": "ipython3",
   "version": "3.9.12"
  }
 },
 "nbformat": 4,
 "nbformat_minor": 5
}
