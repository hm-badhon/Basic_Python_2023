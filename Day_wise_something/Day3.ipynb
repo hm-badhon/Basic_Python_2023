{
 "cells": [
  {
   "cell_type": "code",
   "execution_count": 1,
   "id": "df7d4ef9",
   "metadata": {},
   "outputs": [
    {
     "ename": "IndentationError",
     "evalue": "expected an indented block (335313592.py, line 4)",
     "output_type": "error",
     "traceback": [
      "\u001b[0;36m  Input \u001b[0;32mIn [1]\u001b[0;36m\u001b[0m\n\u001b[0;31m    ...    return func(func(arg))\u001b[0m\n\u001b[0m    ^\u001b[0m\n\u001b[0;31mIndentationError\u001b[0m\u001b[0;31m:\u001b[0m expected an indented block\n"
     ]
    }
   ],
   "source": [
    "# Fuctional Programming \n",
    "\n",
    "def make_twice(func,arg):\n",
    "...    return func(func(arg))\n",
    "...\n",
    "def add_five(x):\n",
    "    return x+5\n",
    "...\n",
    "...\n",
    "print(make_twice(add_five,10))\n"
   ]
  },
  {
   "cell_type": "code",
   "execution_count": 3,
   "id": "b5124767",
   "metadata": {},
   "outputs": [
    {
     "name": "stdout",
     "output_type": "stream",
     "text": [
      "20\n"
     ]
    }
   ],
   "source": [
    ">>> def make_twice(func, arg):\n",
    "...     return func(func(arg))\n",
    "...\n",
    ">>> def add_five(x):\n",
    "...     return x + 5\n",
    "...\n",
    ">>> print(make_twice(add_five, 10))\n",
    "\n",
    ">>>"
   ]
  },
  {
   "cell_type": "code",
   "execution_count": 4,
   "id": "20442753",
   "metadata": {},
   "outputs": [
    {
     "name": "stdout",
     "output_type": "stream",
     "text": [
      "15\n"
     ]
    },
    {
     "data": {
      "text/plain": [
       "20"
      ]
     },
     "execution_count": 4,
     "metadata": {},
     "output_type": "execute_result"
    }
   ],
   "source": [
    ">>> def make_twice(func, arg):\n",
    "...     return func(arg)\n",
    "...\n",
    ">>> def add_five(x):\n",
    "...     return x + 5\n",
    "...\n",
    ">>> print(make_twice(add_five, 10))\n",
    "\n",
    ">>>"
   ]
  },
  {
   "cell_type": "code",
   "execution_count": 5,
   "id": "fb15b029",
   "metadata": {},
   "outputs": [
    {
     "ename": "SyntaxError",
     "evalue": "invalid syntax (2642620572.py, line 3)",
     "output_type": "error",
     "traceback": [
      "\u001b[0;36m  Input \u001b[0;32mIn [5]\u001b[0;36m\u001b[0m\n\u001b[0;31m    >>> def my_pure_function(a,b):\u001b[0m\n\u001b[0m    ^\u001b[0m\n\u001b[0;31mSyntaxError\u001b[0m\u001b[0;31m:\u001b[0m invalid syntax\n"
     ]
    }
   ],
   "source": [
    "#Pure function \n",
    "\n",
    ">>> def my_pure_function(a,b):\n",
    "...     c = (2 * a) + (2 * b)\n",
    "...     return c\n",
    "...\n",
    ">>> my_pure_function(5,10)\n",
    "30"
   ]
  },
  {
   "cell_type": "code",
   "execution_count": null,
   "id": "19f1103d",
   "metadata": {},
   "outputs": [],
   "source": [
    "00"
   ]
  },
  {
   "cell_type": "code",
   "execution_count": 6,
   "id": "7e77e9b6",
   "metadata": {},
   "outputs": [
    {
     "data": {
      "text/plain": [
       "30"
      ]
     },
     "execution_count": 6,
     "metadata": {},
     "output_type": "execute_result"
    }
   ],
   "source": [
    ">>> def my_pure_function(a,b):\n",
    "...     c = (2 * a) + (2 * b)\n",
    "...     return c\n",
    "...\n",
    ">>> my_pure_function(5,10)\n",
    "30"
   ]
  },
  {
   "cell_type": "code",
   "execution_count": 11,
   "id": "85eafd48",
   "metadata": {},
   "outputs": [
    {
     "name": "stdout",
     "output_type": "stream",
     "text": [
      "[10]\n"
     ]
    }
   ],
   "source": [
    ">>> my_list = []\n",
    ">>> def my_impure_function(arg):\n",
    "...     my_list.append(arg)\n",
    "...\n",
    ">>> my_impure_function(10)\n",
    ">>> print(my_list)"
   ]
  },
  {
   "cell_type": "code",
   "execution_count": 13,
   "id": "53b709d4",
   "metadata": {},
   "outputs": [
    {
     "name": "stdout",
     "output_type": "stream",
     "text": [
      "[20]\n"
     ]
    }
   ],
   "source": [
    ">>> my_list = []\n",
    ">>> def my_impure_function(arg):\n",
    "...     my_list.append(arg)\n",
    "...\n",
    ">>> my_impure_function(20)\n",
    ">>> print(my_list)\n"
   ]
  },
  {
   "cell_type": "code",
   "execution_count": 14,
   "id": "30c56328",
   "metadata": {},
   "outputs": [
    {
     "name": "stdout",
     "output_type": "stream",
     "text": [
      "10\n"
     ]
    },
    {
     "data": {
      "text/plain": [
       "10"
      ]
     },
     "execution_count": 14,
     "metadata": {},
     "output_type": "execute_result"
    }
   ],
   "source": [
    "#####Lambda #Anonymous\n",
    "\n",
    "\n",
    ">>> def my_function(func, arg):\n",
    "...     return func(arg)\n",
    "...\n",
    ">>> print(my_function(lambda x: 2 * x, 5))\n",
    "10\n"
   ]
  },
  {
   "cell_type": "code",
   "execution_count": 15,
   "id": "c08578dd",
   "metadata": {},
   "outputs": [
    {
     "name": "stdout",
     "output_type": "stream",
     "text": [
      "8\n"
     ]
    },
    {
     "data": {
      "text/plain": [
       "8"
      ]
     },
     "execution_count": 15,
     "metadata": {},
     "output_type": "execute_result"
    }
   ],
   "source": [
    ">>> print((lambda x,y: x + 2 * y)(2,3))\n",
    "8"
   ]
  },
  {
   "cell_type": "code",
   "execution_count": 17,
   "id": "3591b8ba",
   "metadata": {},
   "outputs": [
    {
     "name": "stdout",
     "output_type": "stream",
     "text": [
      "8\n"
     ]
    }
   ],
   "source": [
    ">>> print((lambda x,y: x + 2 * y)(2,3))"
   ]
  },
  {
   "cell_type": "code",
   "execution_count": 18,
   "id": "076773df",
   "metadata": {},
   "outputs": [
    {
     "name": "stdout",
     "output_type": "stream",
     "text": [
      "16\n"
     ]
    }
   ],
   "source": [
    ">>> print((lambda x: x*x)(2,2))"
   ]
  },
  {
   "cell_type": "code",
   "execution_count": 19,
   "id": "a0ca05ae",
   "metadata": {},
   "outputs": [
    {
     "name": "stdout",
     "output_type": "stream",
     "text": [
      "[20, 24, 40, 60]\n"
     ]
    }
   ],
   "source": [
    "# map and filter \n",
    "\n",
    "\n",
    "def make_double(x):\n",
    "    return x * 2\n",
    "\n",
    "my_marks = [10,12,20,30]\n",
    "\n",
    "result = map(make_double,my_marks)\n",
    "\n",
    "print(list(result))\n"
   ]
  },
  {
   "cell_type": "code",
   "execution_count": null,
   "id": "4ef27c5e",
   "metadata": {},
   "outputs": [],
   "source": []
  },
  {
   "cell_type": "code",
   "execution_count": 22,
   "id": "f4f45448",
   "metadata": {},
   "outputs": [
    {
     "name": "stdout",
     "output_type": "stream",
     "text": [
      "[100, 400, 900]\n"
     ]
    }
   ],
   "source": [
    "def md(x):\n",
    "    return x*x\n",
    "\n",
    "ml=[10,20,30]\n",
    "\n",
    "re=map(md,ml)\n",
    "hgfghcvb \n",
    "print(list(re))"
   ]
  },
  {
   "cell_type": "code",
   "execution_count": 33,
   "id": "132eee0d",
   "metadata": {},
   "outputs": [
    {
     "name": "stdout",
     "output_type": "stream",
     "text": [
      "[]\n",
      "[]\n"
     ]
    }
   ],
   "source": [
    "def is_even(x):\n",
    "    if x%2==0:\n",
    "        return\n",
    "    else:\n",
    "        return\n",
    "\n",
    "num=[1,2,3,45,66,8]\n",
    "\n",
    "result1=filter(is_even,num)\n",
    "result2=filter(is_even,num)\n",
    "\n",
    "print(list(result1))\n",
    "print(list(result2))"
   ]
  },
  {
   "cell_type": "code",
   "execution_count": 34,
   "id": "f9bad9cf",
   "metadata": {},
   "outputs": [
    {
     "name": "stdout",
     "output_type": "stream",
     "text": [
      "[2, 4, 6]\n"
     ]
    },
    {
     "data": {
      "text/plain": [
       "[2, 4, 6]"
      ]
     },
     "execution_count": 34,
     "metadata": {},
     "output_type": "execute_result"
    }
   ],
   "source": [
    ">>> def is_even(x):\n",
    "...     return x % 2 == 0\n",
    "...\n",
    ">>> my_numbers = [1,2,3,4,5,6]\n",
    ">>> result = filter(is_even, my_numbers)\n",
    ">>> print(list(result))\n",
    "[2, 4, 6]\n"
   ]
  },
  {
   "cell_type": "code",
   "execution_count": 38,
   "id": "2c571568",
   "metadata": {},
   "outputs": [
    {
     "name": "stdout",
     "output_type": "stream",
     "text": [
      "[10, 20, 30]\n",
      "[25, 5]\n"
     ]
    }
   ],
   "source": [
    "Lambda Review\n",
    "\n",
    "nums=[10,20,25,30,5]\n",
    "\n",
    "res1=list(filter(lambda x: x%2==0,nums))\n",
    "res2=list(filter(lambda x: x%2==1,nums))\n",
    "\n",
    "print(res1)\n",
    "print(res2)\n",
    "\n",
    "\n",
    "\n"
   ]
  },
  {
   "cell_type": "code",
   "execution_count": 51,
   "id": "b26d78d9",
   "metadata": {},
   "outputs": [
    {
     "name": "stdout",
     "output_type": "stream",
     "text": [
      "5\n",
      "4\n",
      "3\n",
      "2\n",
      "1\n"
     ]
    }
   ],
   "source": [
    "####Generator\n",
    "\n",
    "def my_iterable():\n",
    "    i=5\n",
    "    while i>0:\n",
    "        yield i\n",
    "        i-=1\n",
    "\n",
    "for i in my_iterable():\n",
    "    print(i)"
   ]
  },
  {
   "cell_type": "code",
   "execution_count": 50,
   "id": "1e12b436",
   "metadata": {},
   "outputs": [
    {
     "name": "stdout",
     "output_type": "stream",
     "text": [
      "[0, 2, 4, 6, 8, 10, 12, 14, 16, 18, 20, 22, 24, 26, 28, 30, 32, 34, 36, 38, 40, 42, 44, 46, 48, 50, 52, 54, 56, 58, 60, 62, 64, 66, 68, 70, 72, 74, 76, 78, 80, 82, 84, 86, 88, 90, 92, 94, 96, 98]\n"
     ]
    }
   ],
   "source": [
    "\n",
    "\n",
    "def even_num(x):\n",
    "    for i in range(x):\n",
    "        if i%2==0:\n",
    "            yield i\n",
    "        \n",
    "even_num_list= list(even_num(100))\n",
    "\n",
    "print(even_num_list)"
   ]
  },
  {
   "cell_type": "code",
   "execution_count": 4,
   "id": "a55134ad",
   "metadata": {},
   "outputs": [
    {
     "name": "stdout",
     "output_type": "stream",
     "text": [
      "------------------------\n",
      "Clear Text\n",
      "-------------\n"
     ]
    }
   ],
   "source": [
    "# Decorate \n",
    "\n",
    "def my_decorate(func):\n",
    "    def decorate():\n",
    "        print(\"------------------------\")\n",
    "        func()\n",
    "        print(\"-------------\")\n",
    "    return decorate\n",
    "\n",
    "def print_raw():\n",
    "    print(\"Clear Text\")\n",
    "    \n",
    "decorate_function = my_decorate(print_raw)\n",
    "\n",
    "decorate_function()\n",
    "\n"
   ]
  },
  {
   "cell_type": "code",
   "execution_count": 9,
   "id": "3ed53e63",
   "metadata": {},
   "outputs": [
    {
     "name": "stdout",
     "output_type": "stream",
     "text": [
      "------------------------\n",
      "hello world\n",
      "-------------\n"
     ]
    }
   ],
   "source": [
    "@my_decorate\n",
    "def print_text():\n",
    "    print(\"hello world\")\n",
    "\n",
    "print_text()\n"
   ]
  },
  {
   "cell_type": "code",
   "execution_count": 14,
   "id": "e13c592d",
   "metadata": {},
   "outputs": [
    {
     "name": "stdout",
     "output_type": "stream",
     "text": [
      "6\n"
     ]
    }
   ],
   "source": [
    "# Recursion\n",
    "def fac(x):\n",
    "    if x==1:\n",
    "        return 1\n",
    "    else:\n",
    "        return x * fac(x-1)\n",
    "    \n",
    "print(fac(3))\n"
   ]
  },
  {
   "cell_type": "code",
   "execution_count": 16,
   "id": "673295e0",
   "metadata": {},
   "outputs": [
    {
     "ename": "RecursionError",
     "evalue": "maximum recursion depth exceeded",
     "output_type": "error",
     "traceback": [
      "\u001b[0;31m---------------------------------------------------------------------------\u001b[0m",
      "\u001b[0;31mRecursionError\u001b[0m                            Traceback (most recent call last)",
      "Input \u001b[0;32mIn [16]\u001b[0m, in \u001b[0;36m<cell line: 4>\u001b[0;34m()\u001b[0m\n\u001b[1;32m      1\u001b[0m \u001b[38;5;28;01mdef\u001b[39;00m \u001b[38;5;21mfactorial\u001b[39m(x):\n\u001b[1;32m      2\u001b[0m     \u001b[38;5;28;01mreturn\u001b[39;00m x \u001b[38;5;241m*\u001b[39m factorial(x\u001b[38;5;241m-\u001b[39m\u001b[38;5;241m1\u001b[39m)\n\u001b[0;32m----> 4\u001b[0m \u001b[38;5;28mprint\u001b[39m(\u001b[43mfactorial\u001b[49m\u001b[43m(\u001b[49m\u001b[38;5;241;43m5\u001b[39;49m\u001b[43m)\u001b[49m)\n",
      "Input \u001b[0;32mIn [16]\u001b[0m, in \u001b[0;36mfactorial\u001b[0;34m(x)\u001b[0m\n\u001b[1;32m      1\u001b[0m \u001b[38;5;28;01mdef\u001b[39;00m \u001b[38;5;21mfactorial\u001b[39m(x):\n\u001b[0;32m----> 2\u001b[0m     \u001b[38;5;28;01mreturn\u001b[39;00m x \u001b[38;5;241m*\u001b[39m \u001b[43mfactorial\u001b[49m\u001b[43m(\u001b[49m\u001b[43mx\u001b[49m\u001b[38;5;241;43m-\u001b[39;49m\u001b[38;5;241;43m1\u001b[39;49m\u001b[43m)\u001b[49m\n",
      "Input \u001b[0;32mIn [16]\u001b[0m, in \u001b[0;36mfactorial\u001b[0;34m(x)\u001b[0m\n\u001b[1;32m      1\u001b[0m \u001b[38;5;28;01mdef\u001b[39;00m \u001b[38;5;21mfactorial\u001b[39m(x):\n\u001b[0;32m----> 2\u001b[0m     \u001b[38;5;28;01mreturn\u001b[39;00m x \u001b[38;5;241m*\u001b[39m \u001b[43mfactorial\u001b[49m\u001b[43m(\u001b[49m\u001b[43mx\u001b[49m\u001b[38;5;241;43m-\u001b[39;49m\u001b[38;5;241;43m1\u001b[39;49m\u001b[43m)\u001b[49m\n",
      "    \u001b[0;31m[... skipping similar frames: factorial at line 2 (2970 times)]\u001b[0m\n",
      "Input \u001b[0;32mIn [16]\u001b[0m, in \u001b[0;36mfactorial\u001b[0;34m(x)\u001b[0m\n\u001b[1;32m      1\u001b[0m \u001b[38;5;28;01mdef\u001b[39;00m \u001b[38;5;21mfactorial\u001b[39m(x):\n\u001b[0;32m----> 2\u001b[0m     \u001b[38;5;28;01mreturn\u001b[39;00m x \u001b[38;5;241m*\u001b[39m \u001b[43mfactorial\u001b[49m\u001b[43m(\u001b[49m\u001b[43mx\u001b[49m\u001b[38;5;241;43m-\u001b[39;49m\u001b[38;5;241;43m1\u001b[39;49m\u001b[43m)\u001b[49m\n",
      "\u001b[0;31mRecursionError\u001b[0m: maximum recursion depth exceeded"
     ]
    }
   ],
   "source": [
    "def factorial(x):\n",
    "    return x * factorial(x-1)\n",
    "\n",
    "print(factorial(5))"
   ]
  },
  {
   "cell_type": "code",
   "execution_count": 20,
   "id": "9ee32e4d",
   "metadata": {},
   "outputs": [
    {
     "name": "stdout",
     "output_type": "stream",
     "text": [
      "True\n",
      "False\n"
     ]
    }
   ],
   "source": [
    "def is_even(x):\n",
    "    if x == 0:\n",
    "        return True\n",
    "    else:\n",
    "        return is_odd(x-1)\n",
    "\n",
    "def is_odd(x):\n",
    "    return not is_even(x)\n",
    "\n",
    "\n",
    "print(is_odd(17))\n",
    "print(is_even(23))\n",
    "    "
   ]
  },
  {
   "cell_type": "code",
   "execution_count": 21,
   "id": "96c73f42",
   "metadata": {},
   "outputs": [
    {
     "name": "stdout",
     "output_type": "stream",
     "text": [
      "True\n",
      "False\n"
     ]
    }
   ],
   "source": [
    "###########Set\n",
    "num_set = {1, 2, 3, 4, 5}\n",
    "word_set = set([\"spam\", \"eggs\", \"sausage\"])\n",
    "\n",
    "print(3 in num_set)\n",
    "print(\"spam\" not in word_set)"
   ]
  },
  {
   "cell_type": "code",
   "execution_count": 22,
   "id": "566e49eb",
   "metadata": {},
   "outputs": [
    {
     "name": "stdout",
     "output_type": "stream",
     "text": [
      "{1, 2, 3, 4, 5, 6}\n",
      "{1, 2, 4, 5, 6, -7}\n"
     ]
    }
   ],
   "source": [
    "# Has some duplicate eliments such as 1\n",
    "nums = {1, 2, 1, 3, 1, 4, 5, 6}\n",
    "print(nums)\n",
    "\n",
    "# To add an eliment to the set\n",
    "nums.add(-7)\n",
    "\n",
    "# To remove an element to the set\n",
    "nums.remove(3)\n",
    "print(nums)"
   ]
  },
  {
   "cell_type": "code",
   "execution_count": 23,
   "id": "5afdac70",
   "metadata": {},
   "outputs": [
    {
     "name": "stdout",
     "output_type": "stream",
     "text": [
      "{1, 2, 3, 4, 5, 6, 7, 8, 9}\n",
      "{4, 5, 6}\n",
      "{1, 2, 3}\n",
      "{8, 9, 7}\n",
      "{1, 2, 3, 7, 8, 9}\n"
     ]
    }
   ],
   "source": [
    "first = {1, 2, 3, 4, 5, 6}\n",
    "second = {4, 5, 6, 7, 8, 9}\n",
    "\n",
    "print(first | second)\n",
    "print(first & second)\n",
    "print(first - second)\n",
    "print(second - first)\n",
    "print(first ^ second)"
   ]
  },
  {
   "cell_type": "code",
   "execution_count": 25,
   "id": "679cb764",
   "metadata": {},
   "outputs": [
    {
     "name": "stdout",
     "output_type": "stream",
     "text": [
      "3\n",
      "4\n",
      "5\n",
      "6\n",
      "7\n",
      "8\n",
      "9\n",
      "10\n",
      "11\n",
      "12\n",
      "13\n",
      "14\n",
      "15\n"
     ]
    }
   ],
   "source": [
    "from itertools import count \n",
    "for i in count(3):\n",
    "    print(i)\n",
    "    if i>=15:\n",
    "        break"
   ]
  },
  {
   "cell_type": "code",
   "execution_count": 26,
   "id": "d4c47159",
   "metadata": {},
   "outputs": [
    {
     "name": "stdout",
     "output_type": "stream",
     "text": [
      "[1, 3, 6, 10, 15, 21]\n"
     ]
    }
   ],
   "source": [
    "from itertools import accumulate\n",
    "\n",
    "my_numbers = [1, 2, 3, 4, 5, 6]\n",
    "\n",
    "accumulated_numbers = accumulate(my_numbers)\n",
    "\n",
    "list_of_accu_nums = list(accumulated_numbers)\n",
    "\n",
    "print(list_of_accu_nums)"
   ]
  },
  {
   "cell_type": "code",
   "execution_count": 27,
   "id": "28959d81",
   "metadata": {},
   "outputs": [
    {
     "name": "stdout",
     "output_type": "stream",
     "text": [
      "[1, 2, 3, 4, 5, 6]\n"
     ]
    }
   ],
   "source": [
    "from itertools import takewhile\n",
    "\n",
    "my_numbers = [1, 2, 3, 4, 5, 6, 7, 8, 9, 10]\n",
    "\n",
    "nums_less_equal_six = takewhile(lambda x: x <= 6, my_numbers)\n",
    "\n",
    "filtered_numbers = list(nums_less_equal_six)\n",
    "\n",
    "print(filtered_numbers)"
   ]
  },
  {
   "cell_type": "code",
   "execution_count": 30,
   "id": "f01868b2",
   "metadata": {},
   "outputs": [
    {
     "name": "stdout",
     "output_type": "stream",
     "text": [
      "[]\n"
     ]
    }
   ],
   "source": [
    "from itertools import takewhile\n",
    "\n",
    "mynum= [1,2,3,4,5,6]\n",
    "\n",
    "\n",
    "num_less_equal_six = takewhile(lambda x: x>=4,mynum)\n",
    "\n",
    "\n",
    "filtered_numbers= list(nums_less_equal_six)\n",
    "\n",
    "print(filtered_numbers)"
   ]
  },
  {
   "cell_type": "code",
   "execution_count": 31,
   "id": "6b4f920b",
   "metadata": {},
   "outputs": [
    {
     "name": "stdout",
     "output_type": "stream",
     "text": [
      "[('A', 0), ('A', 1), ('B', 0), ('B', 1)]\n",
      "[('A', 'B'), ('B', 'A')]\n"
     ]
    }
   ],
   "source": [
    "from itertools import product, permutations\n",
    "\n",
    "letters = (\"A\", \"B\")\n",
    "print(list(product(letters, range(2))))\n",
    "print(list(permutations(letters)))"
   ]
  },
  {
   "cell_type": "code",
   "execution_count": null,
   "id": "f2d0327d",
   "metadata": {},
   "outputs": [],
   "source": [
    "\n"
   ]
  }
 ],
 "metadata": {
  "kernelspec": {
   "display_name": "Python 3 (ipykernel)",
   "language": "python",
   "name": "python3"
  },
  "language_info": {
   "codemirror_mode": {
    "name": "ipython",
    "version": 3
   },
   "file_extension": ".py",
   "mimetype": "text/x-python",
   "name": "python",
   "nbconvert_exporter": "python",
   "pygments_lexer": "ipython3",
   "version": "3.9.12"
  }
 },
 "nbformat": 4,
 "nbformat_minor": 5
}
