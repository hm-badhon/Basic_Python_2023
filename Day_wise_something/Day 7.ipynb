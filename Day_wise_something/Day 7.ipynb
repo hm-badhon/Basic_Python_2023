{
 "cells": [
  {
   "cell_type": "code",
   "execution_count": 6,
   "id": "963f2907",
   "metadata": {},
   "outputs": [
    {
     "ename": "SyntaxError",
     "evalue": "invalid syntax (834274703.py, line 11)",
     "output_type": "error",
     "traceback": [
      "\u001b[0;36m  Input \u001b[0;32mIn [6]\u001b[0;36m\u001b[0m\n\u001b[0;31m    as=m()\u001b[0m\n\u001b[0m    ^\u001b[0m\n\u001b[0;31mSyntaxError\u001b[0m\u001b[0;31m:\u001b[0m invalid syntax\n"
     ]
    }
   ],
   "source": [
    "def m():\n",
    "    \n",
    "    txt = \"Hello, welcome to my world.\"\n",
    "    \n",
    "\n",
    "    for i in l:\n",
    "        if i == txt.find(\"e\"):\n",
    "            count+=1\n",
    "            return count\n",
    "\n",
    "as = m()\n",
    "print(as)\n"
   ]
  },
  {
   "cell_type": "code",
   "execution_count": 17,
   "id": "fdbb3c9a",
   "metadata": {},
   "outputs": [
    {
     "name": "stdout",
     "output_type": "stream",
     "text": [
      "bbbbaahsdon\n",
      "b\n",
      "4\n"
     ]
    }
   ],
   "source": [
    "def count_substring(string, sub_string):\n",
    "    count=0\n",
    "    l=len(string)\n",
    "    for i in range(l):\n",
    "        if string.find(sub_string,i)==i:\n",
    "            count+=1\n",
    "        else:\n",
    "            continue\n",
    "    return count\n",
    "\n",
    "if __name__ == '__main__':\n",
    "    string = input().strip()\n",
    "    sub_string = input().strip()\n",
    "    \n",
    "    count = count_substring(string, sub_string)\n",
    "    print(count)"
   ]
  },
  {
   "cell_type": "code",
   "execution_count": 21,
   "id": "8f7e26bb",
   "metadata": {},
   "outputs": [
    {
     "name": "stdout",
     "output_type": "stream",
     "text": [
      "badhoinonon\n",
      "on\n",
      "2\n"
     ]
    }
   ],
   "source": [
    "def count_substring(string, sub_string):\n",
    "    count = 0\n",
    "    n = len(sub_string)\n",
    "    for i in range(len(string)):\n",
    "        if string[i:n] == sub_string:\n",
    "            count +=1\n",
    "        n +=1\n",
    "\n",
    "    return count\n",
    "\n",
    "if __name__ == '__main__':\n",
    "    string = input().strip()\n",
    "    sub_string = input().strip()\n",
    "\n",
    "    count = count_substring(string, sub_string)\n",
    "    print(count)"
   ]
  },
  {
   "cell_type": "code",
   "execution_count": 25,
   "id": "3fe79409",
   "metadata": {},
   "outputs": [
    {
     "name": "stdout",
     "output_type": "stream",
     "text": [
      "bbbbb\n",
      "b\n",
      "5\n"
     ]
    }
   ],
   "source": [
    "def count_substring(string, sub_string):\n",
    "    count = 0\n",
    "    n = len(sub_string)\n",
    "    for i in range(len(string)):\n",
    "        if string[i:n] == sub_string:\n",
    "            count +=1\n",
    "        n+=1\n",
    "\n",
    "    return count\n",
    "\n",
    "if __name__ == '__main__':\n",
    "    string = input().strip()\n",
    "    sub_string = input().strip()\n",
    "    \n",
    "    count = count_substring(string, sub_string)\n",
    "    print(count)"
   ]
  },
  {
   "cell_type": "code",
   "execution_count": 31,
   "id": "3e0cc74c",
   "metadata": {},
   "outputs": [
    {
     "name": "stdout",
     "output_type": "stream",
     "text": [
      "sdfg\n",
      "fghju\n"
     ]
    }
   ],
   "source": [
    "def print_full_name(first, last):\n",
    "    print=(f'Hello {first} {last}!You just delved into python.')\n",
    "\n",
    "if __name__ == '__main__':\n",
    "    first_name = input()\n",
    "    last_name = input()\n",
    "    print_full_name(first_name, last_name)"
   ]
  },
  {
   "cell_type": "code",
   "execution_count": 38,
   "id": "fc9028b3",
   "metadata": {},
   "outputs": [
    {
     "name": "stdout",
     "output_type": "stream",
     "text": [
      "False\n"
     ]
    }
   ],
   "source": [
    "b = 'abcd#'\n",
    "print(b.isalpha())"
   ]
  },
  {
   "cell_type": "code",
   "execution_count": 46,
   "id": "0b3dbe21",
   "metadata": {},
   "outputs": [
    {
     "name": "stdout",
     "output_type": "stream",
     "text": [
      "bggh\n",
      "True\n",
      "\n",
      "True\n",
      "\n",
      "True\n",
      "\n",
      "True\n",
      "\n",
      "True\n",
      "\n"
     ]
    }
   ],
   "source": [
    "s = input()\n",
    "\n",
    "if s.isalnum=True:\n",
    "    \n",
    "    \n",
    "if s.isalpha==True:\n",
    "    \n",
    "\n",
    "if s.isdigit==True:\n",
    "\n",
    "        \n",
    "if s.islower ==True:\n",
    "\n",
    "        \n",
    "if s.isupper==True:\n"
   ]
  },
  {
   "cell_type": "code",
   "execution_count": 48,
   "id": "815776ad",
   "metadata": {},
   "outputs": [
    {
     "name": "stdout",
     "output_type": "stream",
     "text": [
      "asd45\n",
      "a\n",
      "s\n",
      "d\n",
      "True\n",
      "True\n",
      "True\n",
      "True\n",
      "False\n"
     ]
    }
   ],
   "source": [
    "if __name__ == '__main__':\n",
    "    s = input()\n",
    "    isAlnum = False\n",
    "    isAlpha = False\n",
    "    isDigit = False\n",
    "    isLower = False\n",
    "    isUpper = False\n",
    "    for i in s:\n",
    "        if i.isalnum():\n",
    "            isAlnum = True\n",
    "        if i.isalpha():\n",
    "            print(i)\n",
    "            isAlpha = True\n",
    "        if i.isdigit():\n",
    "            isDigit = True\n",
    "        if i.islower():\n",
    "            isLower = True\n",
    "        if i.isupper():\n",
    "            isUpper = True        \n",
    "        \n",
    "    print(isAlnum)\n",
    "    print(isAlpha)\n",
    "    print(isDigit)\n",
    "    print(isLower)\n",
    "    print(isUpper)"
   ]
  },
  {
   "cell_type": "code",
   "execution_count": 49,
   "id": "5665d752",
   "metadata": {},
   "outputs": [
    {
     "name": "stdout",
     "output_type": "stream",
     "text": [
      "dsfgh566\n",
      "True\n",
      "True\n",
      "True\n",
      "True\n",
      "False\n"
     ]
    }
   ],
   "source": [
    "s = input()\n",
    "\n",
    "print(any(map(str.isalnum, s)))\n",
    "\n",
    "print(any(map(str.isalpha, s)))\n",
    "\n",
    "print(any(map(str.isdigit, s)))\n",
    "\n",
    "print(any(map(str.islower, s)))\n",
    "\n",
    "print(any(map(str.isupper, s)))"
   ]
  },
  {
   "cell_type": "code",
   "execution_count": 61,
   "id": "45ab4876",
   "metadata": {},
   "outputs": [
    {
     "name": "stdout",
     "output_type": "stream",
     "text": [
      "sdfgasdfgsd\n",
      "3\n",
      "sdf\n",
      "gas\n",
      "dfg\n",
      "sd\n"
     ]
    }
   ],
   "source": [
    "import textwrap\n",
    "\n",
    "def wrap(string, max_width):\n",
    "    n=len(string)\n",
    "    re=[]\n",
    "    for i in range(0,n,max_width):\n",
    "        re.append(string[i:i+max_width])\n",
    "    return '\\n'.join(re)\n",
    "\n",
    "if __name__ == '__main__':\n",
    "    string, max_width = input(), int(input())\n",
    "    result = wrap(string, max_width)\n",
    "    print(result)"
   ]
  },
  {
   "cell_type": "code",
   "execution_count": 68,
   "id": "0c749b3c",
   "metadata": {},
   "outputs": [
    {
     "name": "stdout",
     "output_type": "stream",
     "text": [
      "rtujrtyu etye r\n",
      "3\n"
     ]
    },
    {
     "ename": "TypeError",
     "evalue": "'int' object is not subscriptable",
     "output_type": "error",
     "traceback": [
      "\u001b[0;31m---------------------------------------------------------------------------\u001b[0m",
      "\u001b[0;31mTypeError\u001b[0m                                 Traceback (most recent call last)",
      "Input \u001b[0;32mIn [68]\u001b[0m, in \u001b[0;36m<cell line: 6>\u001b[0;34m()\u001b[0m\n\u001b[1;32m      5\u001b[0m re\u001b[38;5;241m=\u001b[39m\u001b[38;5;124m'\u001b[39m\u001b[38;5;124m'\u001b[39m\n\u001b[1;32m      6\u001b[0m \u001b[38;5;28;01mfor\u001b[39;00m re \u001b[38;5;129;01min\u001b[39;00m \u001b[38;5;28mrange\u001b[39m(w):\n\u001b[0;32m----> 7\u001b[0m     \u001b[43mre\u001b[49m\u001b[43m[\u001b[49m\u001b[38;5;241;43m0\u001b[39;49m\u001b[43m]\u001b[49m\u001b[38;5;241m.\u001b[39mupper()\n\u001b[1;32m      8\u001b[0m     re\u001b[38;5;241m+\u001b[39m\u001b[38;5;241m=\u001b[39m\u001b[38;5;241m1\u001b[39m\n\u001b[1;32m      9\u001b[0m \u001b[38;5;28mprint\u001b[39m(re)\n",
      "\u001b[0;31mTypeError\u001b[0m: 'int' object is not subscriptable"
     ]
    }
   ],
   "source": [
    "s=input()\n",
    "d=(s.split())\n",
    "w=len(d)\n",
    "print(w)\n",
    "re=''\n",
    "for re in range(w):\n",
    "    re[0].upper()\n",
    "    re+=1\n",
    "print(re)\n",
    "\n",
    "\n"
   ]
  },
  {
   "cell_type": "code",
   "execution_count": 77,
   "id": "ac4d0b56",
   "metadata": {},
   "outputs": [
    {
     "name": "stdout",
     "output_type": "stream",
     "text": [
      "asdrasf asdfas afas\n",
      "19\n",
      "Asdrasf Asdfas Afas\n"
     ]
    }
   ],
   "source": [
    "def solve(s):\n",
    "    result=''\n",
    "    t=len(s)\n",
    "    print(t)\n",
    "    for i in range(t):\n",
    "        if i ==0:\n",
    "            result += s[i].upper()\n",
    "        elif s[i-1]==' ':\n",
    "            result += s[i].upper()\n",
    "        else:\n",
    "            result += s[i]\n",
    "    return result\n",
    "\n",
    "s = input()\n",
    "\n",
    "result = solve(s)\n",
    "\n",
    "print(result)\n",
    "\n"
   ]
  },
  {
   "cell_type": "code",
   "execution_count": null,
   "id": "ad12c088",
   "metadata": {},
   "outputs": [],
   "source": []
  },
  {
   "cell_type": "code",
   "execution_count": null,
   "id": "1b46d016",
   "metadata": {},
   "outputs": [],
   "source": []
  }
 ],
 "metadata": {
  "kernelspec": {
   "display_name": "Python 3 (ipykernel)",
   "language": "python",
   "name": "python3"
  },
  "language_info": {
   "codemirror_mode": {
    "name": "ipython",
    "version": 3
   },
   "file_extension": ".py",
   "mimetype": "text/x-python",
   "name": "python",
   "nbconvert_exporter": "python",
   "pygments_lexer": "ipython3",
   "version": "3.9.12"
  }
 },
 "nbformat": 4,
 "nbformat_minor": 5
}
