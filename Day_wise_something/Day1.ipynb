{
 "cells": [
  {
   "cell_type": "code",
   "execution_count": 3,
   "id": "7cc82aa0",
   "metadata": {},
   "outputs": [
    {
     "name": "stdout",
     "output_type": "stream",
     "text": [
      "['a', 'b', 'c']\n"
     ]
    }
   ],
   "source": [
    "v=[\"a\",\"b\"]\n",
    "x=2\n",
    "v.insert(x,\"c\")\n",
    "\n",
    "print(v)"
   ]
  },
  {
   "cell_type": "code",
   "execution_count": 5,
   "id": "c06a93b7",
   "metadata": {},
   "outputs": [
    {
     "name": "stdout",
     "output_type": "stream",
     "text": [
      "2\n",
      "0\n"
     ]
    },
    {
     "ename": "ValueError",
     "evalue": "'z' is not in list",
     "output_type": "error",
     "traceback": [
      "\u001b[0;31m---------------------------------------------------------------------------\u001b[0m",
      "\u001b[0;31mValueError\u001b[0m                                Traceback (most recent call last)",
      "Input \u001b[0;32mIn [5]\u001b[0m, in \u001b[0;36m<cell line: 4>\u001b[0;34m()\u001b[0m\n\u001b[1;32m      2\u001b[0m \u001b[38;5;28mprint\u001b[39m(letters\u001b[38;5;241m.\u001b[39mindex(\u001b[38;5;124m'\u001b[39m\u001b[38;5;124mr\u001b[39m\u001b[38;5;124m'\u001b[39m))\n\u001b[1;32m      3\u001b[0m \u001b[38;5;28mprint\u001b[39m(letters\u001b[38;5;241m.\u001b[39mindex(\u001b[38;5;124m'\u001b[39m\u001b[38;5;124mp\u001b[39m\u001b[38;5;124m'\u001b[39m))\n\u001b[0;32m----> 4\u001b[0m \u001b[38;5;28mprint\u001b[39m(\u001b[43mletters\u001b[49m\u001b[38;5;241;43m.\u001b[39;49m\u001b[43mindex\u001b[49m\u001b[43m(\u001b[49m\u001b[38;5;124;43m'\u001b[39;49m\u001b[38;5;124;43mz\u001b[39;49m\u001b[38;5;124;43m'\u001b[39;49m\u001b[43m)\u001b[49m)\n",
      "\u001b[0;31mValueError\u001b[0m: 'z' is not in list"
     ]
    }
   ],
   "source": [
    "letters = ['p', 'q', 'r', 's', 'p', 'u']\n",
    "print(letters.index('r'))\n",
    "print(letters.index('p'))\n",
    "print(letters.index('z'))"
   ]
  },
  {
   "cell_type": "code",
   "execution_count": 7,
   "id": "fa6c4070",
   "metadata": {},
   "outputs": [
    {
     "data": {
      "text/plain": [
       "3"
      ]
     },
     "execution_count": 7,
     "metadata": {},
     "output_type": "execute_result"
    }
   ],
   "source": [
    "letters = ['p', 'q', 'r', 'p', 'p', 'u']\n",
    "letters.count('p')"
   ]
  },
  {
   "cell_type": "code",
   "execution_count": 10,
   "id": "076614cd",
   "metadata": {},
   "outputs": [
    {
     "data": {
      "text/plain": [
       "3"
      ]
     },
     "execution_count": 10,
     "metadata": {},
     "output_type": "execute_result"
    }
   ],
   "source": [
    "nums = [4, 20, 50, 3, 4]\n",
    "min(nums)"
   ]
  },
  {
   "cell_type": "code",
   "execution_count": 14,
   "id": "54d5acd7",
   "metadata": {},
   "outputs": [
    {
     "name": "stdout",
     "output_type": "stream",
     "text": [
      "[5, 7, 9]\n"
     ]
    }
   ],
   "source": [
    "my_number = list(range(5,10,2))\n",
    "print(my_number)\n"
   ]
  },
  {
   "cell_type": "code",
   "execution_count": 16,
   "id": "b67c9f24",
   "metadata": {},
   "outputs": [
    {
     "name": "stdout",
     "output_type": "stream",
     "text": [
      "Black Apple \n",
      "Red Apple \n",
      "Blue Apple \n"
     ]
    }
   ],
   "source": [
    "shirts =[\"Black\",\"Red\",\"Blue\"]\n",
    "\n",
    "start_index =0 \n",
    "\n",
    "max_index=len(shirts)-1\n",
    "\n",
    "while start_index<=max_index:\n",
    "    shirt= shirts[start_index]\n",
    "    print(shirt + \" Apple \")\n",
    "    \n",
    "    start_index= start_index+1\n",
    "    "
   ]
  },
  {
   "cell_type": "code",
   "execution_count": 18,
   "id": "7f8dfbc7",
   "metadata": {},
   "outputs": [
    {
     "name": "stdout",
     "output_type": "stream",
     "text": [
      "Black Apple\n",
      "Red Apple\n",
      "Blue Apple\n"
     ]
    }
   ],
   "source": [
    "shirts =[\"Black\",\"Red\",\"Blue\"]\n",
    " \n",
    "for x in shirts:\n",
    "    print(x + \" Apple\")"
   ]
  },
  {
   "cell_type": "code",
   "execution_count": 21,
   "id": "a2f41d4c",
   "metadata": {},
   "outputs": [
    {
     "name": "stdout",
     "output_type": "stream",
     "text": [
      "10\n",
      "20\n",
      "30\n",
      "40\n",
      "50\n",
      "60\n",
      "70\n",
      "80\n",
      "90\n"
     ]
    }
   ],
   "source": [
    "for i in range(10,100,10):\n",
    "    print(i)"
   ]
  },
  {
   "cell_type": "code",
   "execution_count": 22,
   "id": "6cfcfe11",
   "metadata": {},
   "outputs": [
    {
     "name": "stdout",
     "output_type": "stream",
     "text": [
      "B\n",
      "a\n",
      "d\n",
      "h\n",
      "o\n",
      "n\n"
     ]
    }
   ],
   "source": [
    "for x in 'Badhon':\n",
    "    print(x)"
   ]
  },
  {
   "cell_type": "code",
   "execution_count": 27,
   "id": "2118c401",
   "metadata": {},
   "outputs": [
    {
     "name": "stdout",
     "output_type": "stream",
     "text": [
      "0\n",
      "1\n",
      "2\n",
      "3\n",
      "4\n",
      "5\n",
      "7\n",
      "8\n",
      "9\n",
      "Printed the first 10 numbers except 6! \n"
     ]
    }
   ],
   "source": [
    "for i in range(20):\n",
    "    if i == 6:\n",
    "        continue\n",
    "    if i > 9:\n",
    "        break\n",
    "    print(i)\n",
    "    \n",
    "    \n",
    "print(\"Printed the first 10 numbers except 6! \")\n"
   ]
  },
  {
   "cell_type": "code",
   "execution_count": 26,
   "id": "95cfac05",
   "metadata": {},
   "outputs": [
    {
     "name": "stdout",
     "output_type": "stream",
     "text": [
      "0\n",
      "1\n",
      "2\n",
      "3\n",
      "4\n",
      "6\n",
      "7\n",
      "8\n",
      "9\n",
      "Printed first 10 numbers except 5!\n"
     ]
    }
   ],
   "source": [
    "for i in range(20):\n",
    "    if i == 5:\n",
    "        continue\n",
    "    if i > 9:\n",
    "        break\n",
    "    print(i)\n",
    "\n",
    "print(\"Printed first 10 numbers except 5!\")"
   ]
  },
  {
   "cell_type": "code",
   "execution_count": 31,
   "id": "4b584a72",
   "metadata": {},
   "outputs": [
    {
     "name": "stdout",
     "output_type": "stream",
     "text": [
      "hmbadhon\n",
      "None\n"
     ]
    }
   ],
   "source": [
    "def m():\n",
    "    print(\"hmbadhon\")\n",
    "\n",
    "asa=m()\n",
    "print(asa)"
   ]
  },
  {
   "cell_type": "code",
   "execution_count": 34,
   "id": "01c375da",
   "metadata": {},
   "outputs": [
    {
     "name": "stdout",
     "output_type": "stream",
     "text": [
      "0\n",
      "25\n"
     ]
    }
   ],
   "source": [
    "def my_func(x= None):\n",
    "    if x:\n",
    "        return x * x\n",
    "    else:\n",
    "        return 0\n",
    "\n",
    "print(my_func())\n",
    "print(my_func(5))"
   ]
  },
  {
   "cell_type": "code",
   "execution_count": 36,
   "id": "e992d656",
   "metadata": {},
   "outputs": [
    {
     "name": "stdout",
     "output_type": "stream",
     "text": [
      "95\n"
     ]
    }
   ],
   "source": [
    "mark = {\"Bangla\":50 ,\"Math\":95, \"English\":65}\n",
    "print(mark[\"Math\"])"
   ]
  },
  {
   "cell_type": "code",
   "execution_count": 37,
   "id": "a03affea",
   "metadata": {},
   "outputs": [],
   "source": [
    "my_marks = {True : \"Bengali\"}"
   ]
  },
  {
   "cell_type": "code",
   "execution_count": 42,
   "id": "3ad7379a",
   "metadata": {},
   "outputs": [
    {
     "name": "stdout",
     "output_type": "stream",
     "text": [
      "True\n",
      "False\n",
      "True\n",
      "True\n"
     ]
    }
   ],
   "source": [
    "#key in dictionary\n",
    "\n",
    "nums = {1: \"one\", 2: \"two\", 3: \"three\",}\n",
    "\n",
    "print(1 in nums)\n",
    "print(\"three\" in nums)\n",
    "print(4 not in nums)\n",
    "print(3 in nums)"
   ]
  },
  {
   "cell_type": "code",
   "execution_count": null,
   "id": "5695059c",
   "metadata": {},
   "outputs": [],
   "source": []
  },
  {
   "cell_type": "code",
   "execution_count": null,
   "id": "c531d571",
   "metadata": {},
   "outputs": [],
   "source": []
  },
  {
   "cell_type": "code",
   "execution_count": null,
   "id": "f6c1fb2e",
   "metadata": {},
   "outputs": [],
   "source": []
  },
  {
   "cell_type": "code",
   "execution_count": null,
   "id": "530f9f73",
   "metadata": {},
   "outputs": [],
   "source": []
  },
  {
   "cell_type": "code",
   "execution_count": null,
   "id": "0cee6a12",
   "metadata": {},
   "outputs": [],
   "source": []
  },
  {
   "cell_type": "code",
   "execution_count": null,
   "id": "d96e8d65",
   "metadata": {},
   "outputs": [],
   "source": []
  },
  {
   "cell_type": "code",
   "execution_count": null,
   "id": "f6d36ac3",
   "metadata": {},
   "outputs": [],
   "source": []
  },
  {
   "cell_type": "code",
   "execution_count": null,
   "id": "05b9b5bc",
   "metadata": {},
   "outputs": [],
   "source": []
  },
  {
   "cell_type": "code",
   "execution_count": null,
   "id": "6682d214",
   "metadata": {},
   "outputs": [],
   "source": []
  }
 ],
 "metadata": {
  "kernelspec": {
   "display_name": "Python 3 (ipykernel)",
   "language": "python",
   "name": "python3"
  },
  "language_info": {
   "codemirror_mode": {
    "name": "ipython",
    "version": 3
   },
   "file_extension": ".py",
   "mimetype": "text/x-python",
   "name": "python",
   "nbconvert_exporter": "python",
   "pygments_lexer": "ipython3",
   "version": "3.9.12"
  }
 },
 "nbformat": 4,
 "nbformat_minor": 5
}
