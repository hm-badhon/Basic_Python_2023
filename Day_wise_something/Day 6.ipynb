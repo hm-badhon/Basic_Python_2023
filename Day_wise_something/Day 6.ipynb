{
 "cells": [
  {
   "cell_type": "code",
   "execution_count": 9,
   "id": "04426bb9",
   "metadata": {},
   "outputs": [
    {
     "ename": "SyntaxError",
     "evalue": "invalid syntax (353342125.py, line 8)",
     "output_type": "error",
     "traceback": [
      "\u001b[0;36m  Input \u001b[0;32mIn [9]\u001b[0;36m\u001b[0m\n\u001b[0;31m    t[]=b[i]\u001b[0m\n\u001b[0m      ^\u001b[0m\n\u001b[0;31mSyntaxError\u001b[0m\u001b[0;31m:\u001b[0m invalid syntax\n"
     ]
    }
   ],
   "source": [
    "#Swap case\n",
    "\n",
    "def swap_case(s):\n",
    "    \n",
    "    \n",
    "s = input()\n",
    "result = swap_case(s)\n",
    "print(result)\n"
   ]
  },
  {
   "cell_type": "code",
   "execution_count": 10,
   "id": "903edc46",
   "metadata": {},
   "outputs": [
    {
     "name": "stdout",
     "output_type": "stream",
     "text": [
      "10\n",
      "8\n",
      "6\n",
      "4\n",
      "2\n"
     ]
    }
   ],
   "source": [
    "# start with 10\n",
    "# end with 0\n",
    "# step size -2\n",
    "for i in range(10, 0, -2):\n",
    "     print(i)"
   ]
  },
  {
   "cell_type": "code",
   "execution_count": 17,
   "id": "9b151f47",
   "metadata": {},
   "outputs": [
    {
     "ename": "TypeError",
     "evalue": "'type' object is not iterable",
     "output_type": "error",
     "traceback": [
      "\u001b[0;31m---------------------------------------------------------------------------\u001b[0m",
      "\u001b[0;31mTypeError\u001b[0m                                 Traceback (most recent call last)",
      "Input \u001b[0;32mIn [17]\u001b[0m, in \u001b[0;36m<cell line: 6>\u001b[0;34m()\u001b[0m\n\u001b[1;32m      4\u001b[0m     \u001b[38;5;28;01mreturn\u001b[39;00m \u001b[38;5;124m'\u001b[39m\u001b[38;5;124m'\u001b[39m\u001b[38;5;241m.\u001b[39mjoin(list1)\n\u001b[1;32m      5\u001b[0m string \u001b[38;5;241m=\u001b[39m \u001b[38;5;124m\"\u001b[39m\u001b[38;5;124mPython\u001b[39m\u001b[38;5;124m\"\u001b[39m\n\u001b[0;32m----> 6\u001b[0m \u001b[38;5;28mprint\u001b[39m(\u001b[43mswap\u001b[49m\u001b[43m(\u001b[49m\u001b[38;5;241;43m0\u001b[39;49m\u001b[43m,\u001b[49m\u001b[38;5;241;43m2\u001b[39;49m\u001b[43m)\u001b[49m)\n",
      "Input \u001b[0;32mIn [17]\u001b[0m, in \u001b[0;36mswap\u001b[0;34m(i, j)\u001b[0m\n\u001b[1;32m      1\u001b[0m \u001b[38;5;28;01mdef\u001b[39;00m \u001b[38;5;21mswap\u001b[39m(i,j):\n\u001b[0;32m----> 2\u001b[0m     list1\u001b[38;5;241m=\u001b[39m\u001b[38;5;28;43mlist\u001b[39;49m\u001b[43m(\u001b[49m\u001b[38;5;28;43mstr\u001b[39;49m\u001b[43m)\u001b[49m\n\u001b[1;32m      3\u001b[0m     list1[i], list1[j] \u001b[38;5;241m=\u001b[39m list1[j], list1[i]\n\u001b[1;32m      4\u001b[0m     \u001b[38;5;28;01mreturn\u001b[39;00m \u001b[38;5;124m'\u001b[39m\u001b[38;5;124m'\u001b[39m\u001b[38;5;241m.\u001b[39mjoin(list1)\n",
      "\u001b[0;31mTypeError\u001b[0m: 'type' object is not iterable"
     ]
    }
   ],
   "source": [
    "def swap(i,j):\n",
    "    list1=list(str)\n",
    "    list1[i], list1[j] = list1[j], list1[i]\n",
    "    return ''.join(list1)\n",
    "string = \"Python\"\n",
    "print(swap(0,2))"
   ]
  },
  {
   "cell_type": "code",
   "execution_count": 19,
   "id": "be29d4fc",
   "metadata": {},
   "outputs": [
    {
     "name": "stdout",
     "output_type": "stream",
     "text": [
      "olleH\n"
     ]
    }
   ],
   "source": [
    " txt = \"Hello\" [::-1]\n",
    "print(txt) "
   ]
  },
  {
   "cell_type": "code",
   "execution_count": 26,
   "id": "0fbec15d",
   "metadata": {},
   "outputs": [
    {
     "name": "stdout",
     "output_type": "stream",
     "text": [
      "asdf\n",
      "None\n"
     ]
    }
   ],
   "source": [
    "def swap_case(s):\n",
    "    ch='.'\n",
    "    if s.__contains__(ch):\n",
    "    return print(\"Yes\")\n",
    "\n",
    "s = input()\n",
    "result = swap_case(s)\n",
    "print(result)"
   ]
  },
  {
   "cell_type": "code",
   "execution_count": 4,
   "id": "8decd3d3",
   "metadata": {},
   "outputs": [
    {
     "name": "stdout",
     "output_type": "stream",
     "text": [
      "klklk09k\n",
      "The odiginal string is  : klklk09k\n",
      " Change  : ['klklkk', '09']\n"
     ]
    }
   ],
   "source": [
    "##Spliting chareceter and number \n",
    "\n",
    "#using is digit method\n",
    "\n",
    "texts= input()\n",
    "\n",
    "print(\"The odiginal string is  : \" + str(texts))\n",
    "\n",
    "\n",
    "text=\"\"\n",
    "num=\"\"\n",
    "res=[]\n",
    "for i in texts:\n",
    "    if(i.isdigit()):\n",
    "        num=num+i\n",
    "    else:\n",
    "        text+=i\n",
    "        \n",
    "res.append(text)\n",
    "#res.join(text)\n",
    "res.append(num)\n",
    "print(\" Change  : \" + str(res))\n",
    "#print(\" Change  : \" + (res))"
   ]
  },
  {
   "cell_type": "code",
   "execution_count": null,
   "id": "8f0fc1d1",
   "metadata": {},
   "outputs": [],
   "source": [
    "string = 'GeeksforGeeks is a computer Science portal for Geeks'\n",
    "newstring = ''\n",
    "count1 = 0\n",
    "count2 = 0\n",
    "count3 = 0\n",
    "\n",
    "for a in string:\n",
    "\n",
    "\t# Checking for lowercase letter and\n",
    "\t# converting to uppercase.\n",
    "\tif (a.isupper()) == True:\n",
    "\t\tcount1 += 1\n",
    "\t\tnewstring += (a.lower())\n",
    "\n",
    "\t# Checking for uppercase letter and\n",
    "\t# converting to lowercase.\n",
    "\telif (a.islower()) == True:\n",
    "\t\tcount2 += 1\n",
    "\t\tnewstring += (a.upper())\n",
    "\n",
    "\t# Checking for whitespace letter and\n",
    "\t# adding it to the new string as it is.\n",
    "\telif (a.isspace()) == True:\n",
    "\t\tcount3 += 1\n",
    "\t\tnewstring += a\n",
    "\n",
    "print(\"In original String : \")\n",
    "print(\"Uppercase -\", count1)\n",
    "print(\"Lowercase -\", count2)\n",
    "print(\"Spaces -\", count3)\n",
    "\n",
    "print(\"After changing cases:\")\n",
    "print(newstring)\n"
   ]
  },
  {
   "cell_type": "code",
   "execution_count": 19,
   "id": "3cc7bfb0",
   "metadata": {},
   "outputs": [
    {
     "name": "stdout",
     "output_type": "stream",
     "text": [
      "asd asj.UG 45\n",
      "ASD ASJ.ug 45\n"
     ]
    }
   ],
   "source": [
    "def swap_case(s):\n",
    "    new=''\n",
    "    for a in s:\n",
    "        \n",
    "        if (a.isupper()) == True:\n",
    "            new += (a.lower())\n",
    "        elif (a.islower()) == True:\n",
    "            new += (a.upper())\n",
    "        elif (a.isspace()) == True:\n",
    "            new += a\n",
    "        elif (a.isdigit()) == True:\n",
    "            new += a\n",
    "        else:\n",
    "            new += a\n",
    "            \n",
    "    return new\n",
    "        \n",
    "s = input()\n",
    "result = swap_case(s)\n",
    "print(result)"
   ]
  },
  {
   "cell_type": "code",
   "execution_count": 37,
   "id": "8df80164",
   "metadata": {},
   "outputs": [
    {
     "name": "stdout",
     "output_type": "stream",
     "text": [
      "Robotics 89\n",
      "rOBOTICS 89\n"
     ]
    }
   ],
   "source": [
    "#nwew\n",
    "def swap_case(s):\n",
    "    new=''\n",
    "    num=''\n",
    "    for a in s:\n",
    "        \n",
    "        if (a.isupper()) == True:\n",
    "            new += (a.lower())\n",
    "        elif (a.islower()) == True:\n",
    "            new += (a.upper())\n",
    "        elif (a.isspace()) == True:\n",
    "            new += a\n",
    "        elif (a.isdigit()) == True:\n",
    "            num += a\n",
    "        else:\n",
    "            new += a\n",
    "            \n",
    "    return new + num\n",
    "        \n",
    "s = input()\n",
    "result = swap_case(s)\n",
    "print(result)"
   ]
  },
  {
   "cell_type": "code",
   "execution_count": null,
   "id": "b54eedd7",
   "metadata": {},
   "outputs": [],
   "source": []
  },
  {
   "cell_type": "code",
   "execution_count": null,
   "id": "11e6be40",
   "metadata": {},
   "outputs": [],
   "source": []
  },
  {
   "cell_type": "code",
   "execution_count": null,
   "id": "d31372e9",
   "metadata": {},
   "outputs": [],
   "source": []
  },
  {
   "cell_type": "code",
   "execution_count": null,
   "id": "6514f367",
   "metadata": {},
   "outputs": [],
   "source": []
  },
  {
   "cell_type": "code",
   "execution_count": null,
   "id": "39a64926",
   "metadata": {},
   "outputs": [],
   "source": []
  },
  {
   "cell_type": "code",
   "execution_count": null,
   "id": "9e91a837",
   "metadata": {},
   "outputs": [],
   "source": []
  },
  {
   "cell_type": "code",
   "execution_count": null,
   "id": "3725ed47",
   "metadata": {},
   "outputs": [],
   "source": []
  },
  {
   "cell_type": "code",
   "execution_count": null,
   "id": "f496bb50",
   "metadata": {},
   "outputs": [],
   "source": []
  },
  {
   "cell_type": "code",
   "execution_count": null,
   "id": "cd3a0155",
   "metadata": {},
   "outputs": [],
   "source": []
  },
  {
   "cell_type": "code",
   "execution_count": null,
   "id": "339e0583",
   "metadata": {},
   "outputs": [],
   "source": []
  },
  {
   "cell_type": "code",
   "execution_count": null,
   "id": "23616944",
   "metadata": {},
   "outputs": [],
   "source": []
  },
  {
   "cell_type": "code",
   "execution_count": null,
   "id": "51187166",
   "metadata": {},
   "outputs": [],
   "source": []
  },
  {
   "cell_type": "code",
   "execution_count": null,
   "id": "7d9cab58",
   "metadata": {},
   "outputs": [],
   "source": []
  },
  {
   "cell_type": "code",
   "execution_count": null,
   "id": "1698d622",
   "metadata": {},
   "outputs": [],
   "source": []
  },
  {
   "cell_type": "code",
   "execution_count": null,
   "id": "5ec04cc5",
   "metadata": {},
   "outputs": [],
   "source": []
  },
  {
   "cell_type": "code",
   "execution_count": null,
   "id": "def9dee2",
   "metadata": {},
   "outputs": [],
   "source": []
  },
  {
   "cell_type": "code",
   "execution_count": null,
   "id": "8c1c5b58",
   "metadata": {},
   "outputs": [],
   "source": []
  },
  {
   "cell_type": "code",
   "execution_count": null,
   "id": "b7940b42",
   "metadata": {},
   "outputs": [],
   "source": []
  },
  {
   "cell_type": "code",
   "execution_count": null,
   "id": "f08ecfb3",
   "metadata": {},
   "outputs": [],
   "source": []
  },
  {
   "cell_type": "code",
   "execution_count": null,
   "id": "ad17e5b4",
   "metadata": {},
   "outputs": [],
   "source": []
  },
  {
   "cell_type": "code",
   "execution_count": null,
   "id": "cee11d26",
   "metadata": {},
   "outputs": [],
   "source": []
  },
  {
   "cell_type": "code",
   "execution_count": null,
   "id": "d2953dd2",
   "metadata": {},
   "outputs": [],
   "source": []
  }
 ],
 "metadata": {
  "kernelspec": {
   "display_name": "Python 3 (ipykernel)",
   "language": "python",
   "name": "python3"
  },
  "language_info": {
   "codemirror_mode": {
    "name": "ipython",
    "version": 3
   },
   "file_extension": ".py",
   "mimetype": "text/x-python",
   "name": "python",
   "nbconvert_exporter": "python",
   "pygments_lexer": "ipython3",
   "version": "3.9.12"
  }
 },
 "nbformat": 4,
 "nbformat_minor": 5
}
