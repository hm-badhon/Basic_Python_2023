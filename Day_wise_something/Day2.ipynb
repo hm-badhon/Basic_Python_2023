{
 "cells": [
  {
   "cell_type": "code",
   "execution_count": 2,
   "id": "c974c61f",
   "metadata": {},
   "outputs": [
    {
     "ename": "IndexError",
     "evalue": "list assignment index out of range",
     "output_type": "error",
     "traceback": [
      "\u001b[0;31m---------------------------------------------------------------------------\u001b[0m",
      "\u001b[0;31mIndexError\u001b[0m                                Traceback (most recent call last)",
      "Input \u001b[0;32mIn [2]\u001b[0m, in \u001b[0;36m<cell line: 2>\u001b[0;34m()\u001b[0m\n\u001b[1;32m      1\u001b[0m my_list \u001b[38;5;241m=\u001b[39m [\u001b[38;5;241m2\u001b[39m, \u001b[38;5;241m4\u001b[39m, \u001b[38;5;241m6\u001b[39m, \u001b[38;5;241m7\u001b[39m]\n\u001b[0;32m----> 2\u001b[0m my_list[\u001b[38;5;241m4\u001b[39m] \u001b[38;5;241m=\u001b[39m \u001b[38;5;241m8\u001b[39m\n\u001b[1;32m      4\u001b[0m \u001b[38;5;28mprint\u001b[39m(my_list)\n",
      "\u001b[0;31mIndexError\u001b[0m: list assignment index out of range"
     ]
    }
   ],
   "source": [
    "#Dictionary Function########################\n",
    "\n",
    "my_list = [2, 4, 6, 7]\n",
    "my_list[4] = 8\n",
    "\n",
    "print(my_list)"
   ]
  },
  {
   "cell_type": "code",
   "execution_count": 3,
   "id": "1521a45a",
   "metadata": {},
   "outputs": [
    {
     "name": "stdout",
     "output_type": "stream",
     "text": [
      "[2, 4, 6, 8]\n"
     ]
    }
   ],
   "source": [
    "my_list = [2, 4, 6, 7]\n",
    "my_list[3] = 8\n",
    "\n",
    "print(my_list)"
   ]
  },
  {
   "cell_type": "code",
   "execution_count": 5,
   "id": "3e15cb7c",
   "metadata": {},
   "outputs": [
    {
     "name": "stdout",
     "output_type": "stream",
     "text": [
      "{1: 1, 2: 4, 3: 9, 4: 16, 5: 'What?'}\n"
     ]
    }
   ],
   "source": [
    "my_nums = {1 : 1, 2 : 4, 3 : 9, 4 : \"What?\", 5 : \"What?\"}\n",
    "my_nums[4] = 16\n",
    "\n",
    "print(my_nums)"
   ]
  },
  {
   "cell_type": "code",
   "execution_count": 6,
   "id": "980e3301",
   "metadata": {},
   "outputs": [
    {
     "name": "stdout",
     "output_type": "stream",
     "text": [
      "{1: 1, 2: 4, 3: 9, 4: 16}\n"
     ]
    }
   ],
   "source": [
    "my_nums = {1 : 1, 2 : 4, 3 : 9, 4 : \"What?\"}\n",
    "my_nums[4] = 16\n",
    "\n",
    "print(my_nums)"
   ]
  },
  {
   "cell_type": "code",
   "execution_count": 7,
   "id": "4332ff42",
   "metadata": {},
   "outputs": [
    {
     "ename": "IndexError",
     "evalue": "list assignment index out of range",
     "output_type": "error",
     "traceback": [
      "\u001b[0;31m---------------------------------------------------------------------------\u001b[0m",
      "\u001b[0;31mIndexError\u001b[0m                                Traceback (most recent call last)",
      "Input \u001b[0;32mIn [7]\u001b[0m, in \u001b[0;36m<cell line: 2>\u001b[0;34m()\u001b[0m\n\u001b[1;32m      1\u001b[0m my_list \u001b[38;5;241m=\u001b[39m [\u001b[38;5;241m2\u001b[39m, \u001b[38;5;241m4\u001b[39m, \u001b[38;5;241m6\u001b[39m, \u001b[38;5;241m8\u001b[39m]\n\u001b[0;32m----> 2\u001b[0m my_list[\u001b[38;5;241m4\u001b[39m] \u001b[38;5;241m=\u001b[39m \u001b[38;5;241m10\u001b[39m\n",
      "\u001b[0;31mIndexError\u001b[0m: list assignment index out of range"
     ]
    }
   ],
   "source": [
    "my_list = [2, 4, 6, 8]\n",
    "my_list[4] = 10"
   ]
  },
  {
   "cell_type": "code",
   "execution_count": 8,
   "id": "caf4f4da",
   "metadata": {},
   "outputs": [
    {
     "name": "stdout",
     "output_type": "stream",
     "text": [
      "{1: 1, 2: 4, 3: 9, 4: 16, 5: 25}\n"
     ]
    }
   ],
   "source": [
    "my_nums = {1 : 1, 2 : 4, 3 : 9, 4 : 16}\n",
    "my_nums[5] = 25\n",
    "\n",
    "print(my_nums)"
   ]
  },
  {
   "cell_type": "code",
   "execution_count": 9,
   "id": "8c5de6d6",
   "metadata": {},
   "outputs": [
    {
     "name": "stdout",
     "output_type": "stream",
     "text": [
      "True\n"
     ]
    }
   ],
   "source": [
    "# Find Key#######################################\n",
    "\n",
    "nums= {1: \"one\" , 2: \"two\", 3: \"three\",}\n",
    "\n",
    "print(1 in  nums)"
   ]
  },
  {
   "cell_type": "code",
   "execution_count": 10,
   "id": "13334ac8",
   "metadata": {},
   "outputs": [
    {
     "name": "stdout",
     "output_type": "stream",
     "text": [
      "True\n",
      "False\n",
      "True\n"
     ]
    }
   ],
   "source": [
    "nums = {1: \"one\", 2: \"two\", 3: \"three\",}\n",
    "\n",
    "print(1 in nums)\n",
    "print(\"three\" in nums)\n",
    "print(4 not in nums)"
   ]
  },
  {
   "cell_type": "markdown",
   "id": "41171a4a",
   "metadata": {},
   "source": [
    "\n",
    "my_nums = {1 : 1, 2 : 4, 3 : 9, 4 : 16}\n",
    "print(my_nums[5)"
   ]
  },
  {
   "cell_type": "code",
   "execution_count": 12,
   "id": "1bb7cd91",
   "metadata": {},
   "outputs": [
    {
     "name": "stdout",
     "output_type": "stream",
     "text": [
      "16\n"
     ]
    }
   ],
   "source": [
    "num={ 1:1,2:4,3:9,4:16}\n",
    "print(num.get(4))"
   ]
  },
  {
   "cell_type": "code",
   "execution_count": 13,
   "id": "64e196a6",
   "metadata": {},
   "outputs": [
    {
     "ename": "KeyError",
     "evalue": "5",
     "output_type": "error",
     "traceback": [
      "\u001b[0;31m---------------------------------------------------------------------------\u001b[0m",
      "\u001b[0;31mKeyError\u001b[0m                                  Traceback (most recent call last)",
      "Input \u001b[0;32mIn [13]\u001b[0m, in \u001b[0;36m<cell line: 2>\u001b[0;34m()\u001b[0m\n\u001b[1;32m      1\u001b[0m my_nums \u001b[38;5;241m=\u001b[39m {\u001b[38;5;241m1\u001b[39m : \u001b[38;5;241m1\u001b[39m, \u001b[38;5;241m2\u001b[39m : \u001b[38;5;241m4\u001b[39m, \u001b[38;5;241m3\u001b[39m : \u001b[38;5;241m9\u001b[39m, \u001b[38;5;241m4\u001b[39m : \u001b[38;5;241m16\u001b[39m}\n\u001b[0;32m----> 2\u001b[0m \u001b[38;5;28mprint\u001b[39m(\u001b[43mmy_nums\u001b[49m\u001b[43m[\u001b[49m\u001b[38;5;241;43m5\u001b[39;49m\u001b[43m]\u001b[49m)\n",
      "\u001b[0;31mKeyError\u001b[0m: 5"
     ]
    }
   ],
   "source": [
    "my_nums = {1 : 1, 2 : 4, 3 : 9, 4 : 16}\n",
    "print(my_nums[5])"
   ]
  },
  {
   "cell_type": "code",
   "execution_count": 15,
   "id": "e7016185",
   "metadata": {},
   "outputs": [
    {
     "name": "stdout",
     "output_type": "stream",
     "text": [
      "5 is not my number\n"
     ]
    }
   ],
   "source": [
    "my_nums = {1 : 1, 2 : 4, 3 : 9, 4 : 16}\n",
    "print(my_nums.get(5,\"5 is not my number\"))"
   ]
  },
  {
   "cell_type": "code",
   "execution_count": 14,
   "id": "3e4ad202",
   "metadata": {},
   "outputs": [
    {
     "name": "stdout",
     "output_type": "stream",
     "text": [
      "None\n"
     ]
    }
   ],
   "source": [
    "my_nums = {1 : 1, 2 : 4, 3 : 9, 4 : 16}\n",
    "print(my_nums.get(5))"
   ]
  },
  {
   "cell_type": "code",
   "execution_count": 16,
   "id": "9eaac641",
   "metadata": {},
   "outputs": [
    {
     "name": "stdout",
     "output_type": "stream",
     "text": [
      "Admin\n"
     ]
    }
   ],
   "source": [
    "# Toule########################\n",
    "\n",
    "roles = (\"Admin\", \"Operator\", \"User\")   \n",
    "# Or following line will create the same Tuple\n",
    "# roles = \"Admin\", \"Operator\", \"User\" \n",
    "\n",
    "print(roles[0])\n"
   ]
  },
  {
   "cell_type": "code",
   "execution_count": 17,
   "id": "d1673485",
   "metadata": {},
   "outputs": [
    {
     "name": "stdout",
     "output_type": "stream",
     "text": [
      "Development\n"
     ]
    }
   ],
   "source": [
    "permissions = ((\"Admin\", \"Operator\", \"Customer\"), (\"Developer\", \"Tester\"), [1, 2, 3], {\"Stage\": \"Development\"})\n",
    "\n",
    "print(permissions[3][\"Stage\"])"
   ]
  },
  {
   "cell_type": "code",
   "execution_count": 19,
   "id": "f7329952",
   "metadata": {},
   "outputs": [
    {
     "data": {
      "text/plain": [
       "3"
      ]
     },
     "execution_count": 19,
     "metadata": {},
     "output_type": "execute_result"
    }
   ],
   "source": [
    "\n",
    "1\n",
    "2\n",
    "3\n"
   ]
  },
  {
   "cell_type": "code",
   "execution_count": 20,
   "id": "74f7ae37",
   "metadata": {},
   "outputs": [
    {
     "name": "stdout",
     "output_type": "stream",
     "text": [
      "1\n",
      "2\n",
      "3\n"
     ]
    }
   ],
   "source": [
    "numbers = (1, 2, 3)\n",
    "a, b, c = numbers\n",
    "print(a)\n",
    "print(b)\n",
    "print(c)"
   ]
  },
  {
   "cell_type": "code",
   "execution_count": 21,
   "id": "43346749",
   "metadata": {},
   "outputs": [
    {
     "name": "stdout",
     "output_type": "stream",
     "text": [
      "1\n",
      "2\n",
      "[3, 4, 5, 6, 7, 8]\n",
      "9\n"
     ]
    }
   ],
   "source": [
    "a, b, *c, d = [1, 2, 3, 4, 5, 6, 7, 8, 9]\n",
    "print(a)\n",
    "print(b)\n",
    "print(c)\n",
    "print(d)"
   ]
  },
  {
   "cell_type": "code",
   "execution_count": 22,
   "id": "04e4a779",
   "metadata": {},
   "outputs": [
    {
     "name": "stdout",
     "output_type": "stream",
     "text": [
      "[60, 65, 69, 76]\n",
      "[80, 85, 90]\n",
      "[2, 4, 6, 32]\n"
     ]
    }
   ],
   "source": [
    "some_marks = [2, 4, 6, 32, 60, 65, 69, 76, 80, 85, 90]\n",
    "\n",
    "avg_marks = some_marks[4:8]\n",
    "print(avg_marks)\n",
    "\n",
    "good_marks = some_marks[8:]\n",
    "print(good_marks)\n",
    "\n",
    "poor_marks = some_marks[:4]\n",
    "print(poor_marks)"
   ]
  },
  {
   "cell_type": "code",
   "execution_count": 24,
   "id": "a61cfda4",
   "metadata": {},
   "outputs": [
    {
     "name": "stdout",
     "output_type": "stream",
     "text": [
      "[3, 6, 9]\n"
     ]
    }
   ],
   "source": [
    "numbers =[1,12,3,5,6,7,9,8]\n",
    "print(numbers[2:9:2])"
   ]
  },
  {
   "cell_type": "code",
   "execution_count": 25,
   "id": "b1c145e9",
   "metadata": {},
   "outputs": [
    {
     "name": "stdout",
     "output_type": "stream",
     "text": [
      "[0, 1, 4, 9, 16, 25, 36, 49, 64, 81]\n"
     ]
    }
   ],
   "source": [
    "squares = [1, 2, 5, 0, 1, 4, 9, 16, 25, 36, 49, 64, 81, 4, 6, 7, 8]\n",
    "print(squares[3:-4])"
   ]
  },
  {
   "cell_type": "code",
   "execution_count": 26,
   "id": "f3f39c33",
   "metadata": {},
   "outputs": [
    {
     "name": "stdout",
     "output_type": "stream",
     "text": [
      "[9, 8, 7, 6, 5, 4, 3]\n"
     ]
    }
   ],
   "source": [
    "values=[3,4,5,6,7,8,9]\n",
    "print(values[::-1])"
   ]
  },
  {
   "cell_type": "code",
   "execution_count": 27,
   "id": "305d18ab",
   "metadata": {},
   "outputs": [
    {
     "name": "stdout",
     "output_type": "stream",
     "text": [
      "3\n"
     ]
    }
   ],
   "source": [
    "print(min([3,4,5,6,7,8,9]))"
   ]
  },
  {
   "cell_type": "code",
   "execution_count": 28,
   "id": "7da0e1cf",
   "metadata": {},
   "outputs": [
    {
     "name": "stdout",
     "output_type": "stream",
     "text": [
      "9\n"
     ]
    }
   ],
   "source": [
    "print(max([3,4,5,6,7,8,9]))"
   ]
  },
  {
   "cell_type": "code",
   "execution_count": 29,
   "id": "ed40cb38",
   "metadata": {},
   "outputs": [
    {
     "ename": "NameError",
     "evalue": "name 'mul' is not defined",
     "output_type": "error",
     "traceback": [
      "\u001b[0;31m---------------------------------------------------------------------------\u001b[0m",
      "\u001b[0;31mNameError\u001b[0m                                 Traceback (most recent call last)",
      "Input \u001b[0;32mIn [29]\u001b[0m, in \u001b[0;36m<cell line: 1>\u001b[0;34m()\u001b[0m\n\u001b[0;32m----> 1\u001b[0m \u001b[38;5;28mprint\u001b[39m(\u001b[43mmul\u001b[49m([\u001b[38;5;241m3\u001b[39m,\u001b[38;5;241m4\u001b[39m,\u001b[38;5;241m5\u001b[39m,\u001b[38;5;241m6\u001b[39m,\u001b[38;5;241m7\u001b[39m,\u001b[38;5;241m8\u001b[39m,\u001b[38;5;241m9\u001b[39m]))\n",
      "\u001b[0;31mNameError\u001b[0m: name 'mul' is not defined"
     ]
    }
   ],
   "source": [
    "print(mul([3,4,5,6,7,8,9]))"
   ]
  },
  {
   "cell_type": "code",
   "execution_count": 30,
   "id": "1ff11535",
   "metadata": {},
   "outputs": [
    {
     "name": "stdout",
     "output_type": "stream",
     "text": [
      "42\n"
     ]
    }
   ],
   "source": [
    "print(sum([3,4,5,6,7,8,9]))"
   ]
  },
  {
   "cell_type": "code",
   "execution_count": 31,
   "id": "277c8282",
   "metadata": {},
   "outputs": [
    {
     "ename": "NameError",
     "evalue": "name 'num_list' is not defined",
     "output_type": "error",
     "traceback": [
      "\u001b[0;31m---------------------------------------------------------------------------\u001b[0m",
      "\u001b[0;31mNameError\u001b[0m                                 Traceback (most recent call last)",
      "Input \u001b[0;32mIn [31]\u001b[0m, in \u001b[0;36m<cell line: 2>\u001b[0;34m()\u001b[0m\n\u001b[1;32m      1\u001b[0m even_num_list \u001b[38;5;241m=\u001b[39m []\n\u001b[0;32m----> 2\u001b[0m \u001b[38;5;28;01mfor\u001b[39;00m num \u001b[38;5;129;01min\u001b[39;00m \u001b[43mnum_list\u001b[49m:\n\u001b[1;32m      3\u001b[0m     \u001b[38;5;28;01mif\u001b[39;00m num \u001b[38;5;241m%\u001b[39m \u001b[38;5;241m2\u001b[39m \u001b[38;5;241m==\u001b[39m \u001b[38;5;241m0\u001b[39m:\n\u001b[1;32m      4\u001b[0m         even_num_list\u001b[38;5;241m.\u001b[39mappend(num)\n",
      "\u001b[0;31mNameError\u001b[0m: name 'num_list' is not defined"
     ]
    }
   ],
   "source": [
    "even_num_list = []\n",
    "for num in num_list:\n",
    "    if num % 2 == 0:\n",
    "        even_num_list.append(num)\n",
    "print (even_num_list)"
   ]
  },
  {
   "cell_type": "code",
   "execution_count": 35,
   "id": "1c6d51df",
   "metadata": {},
   "outputs": [
    {
     "name": "stdout",
     "output_type": "stream",
     "text": [
      "[4, 6, 8, 10]\n"
     ]
    }
   ],
   "source": [
    "num_list = [4, 5, 6, 7, 8, 9, 10]\n",
    "even_num=[]\n",
    "for num in num_list:\n",
    "    if num%2==0:\n",
    "        even_num.append(num)\n",
    "print(even_num)      \n"
   ]
  },
  {
   "cell_type": "code",
   "execution_count": 37,
   "id": "cfcd6598",
   "metadata": {},
   "outputs": [
    {
     "name": "stdout",
     "output_type": "stream",
     "text": [
      "[2, 4, 6, 8, 10]\n"
     ]
    }
   ],
   "source": [
    "num_list = [1, 2, 3, 4, 5, 6, 7, 8, 9, 10]\n",
    "even=[even_num for even_num in num_list if even_num%2==0]\n",
    "print(even)"
   ]
  },
  {
   "cell_type": "code",
   "execution_count": 51,
   "id": "00854681",
   "metadata": {},
   "outputs": [
    {
     "name": "stdout",
     "output_type": "stream",
     "text": [
      "[9]\n"
     ]
    }
   ],
   "source": [
    "\n",
    "num_list = [2,6,9,8]\n",
    "            \n",
    "odd=[odd_num for odd_num in num_list if odd_num%2==1]\n",
    "print(odd)"
   ]
  },
  {
   "cell_type": "code",
   "execution_count": 39,
   "id": "789f028f",
   "metadata": {},
   "outputs": [
    {
     "name": "stdout",
     "output_type": "stream",
     "text": [
      "[2, 4, 6, 8, 10]\n"
     ]
    }
   ],
   "source": [
    "even_num_list = [\n",
    "  num\n",
    "  for num in num_list\n",
    "  if num % 2 == 0\n",
    "]\n",
    "\n",
    "print(even_num_list)"
   ]
  },
  {
   "cell_type": "code",
   "execution_count": 41,
   "id": "2ad78095",
   "metadata": {},
   "outputs": [
    {
     "name": "stdout",
     "output_type": "stream",
     "text": [
      "[1, 2, 3, 4, 5, 6]\n"
     ]
    }
   ],
   "source": [
    "# nested loop Comprehension\n",
    "matrix_1d =[]\n",
    "matrix_2d =[[1,2,3],\n",
    "           [4,5,6]]\n",
    "for row in matrix_2d:\n",
    "    for num in row:\n",
    "        matrix_1d.append(num)\n",
    "print(matrix_1d)\n",
    "\n",
    "\n"
   ]
  },
  {
   "cell_type": "code",
   "execution_count": 43,
   "id": "ee6a24f7",
   "metadata": {},
   "outputs": [
    {
     "name": "stdout",
     "output_type": "stream",
     "text": [
      "[1, 2, 3, 4, 5, 6]\n"
     ]
    }
   ],
   "source": [
    "matrix_2d=[[1,2,3],[4,5,6]]\n",
    "matrix_1d= [num for row in matrix_2d for num in row]\n",
    "print(matrix_1d)"
   ]
  },
  {
   "cell_type": "code",
   "execution_count": 44,
   "id": "a2c0fbef",
   "metadata": {},
   "outputs": [
    {
     "name": "stdout",
     "output_type": "stream",
     "text": [
      "[[1, 2, 3], [4, 5, 6]]\n"
     ]
    }
   ],
   "source": [
    "matrix_2d=[[1,2,3],[4,5,6]]\n",
    "matrix_1d= [num for num in matrix_2d]\n",
    "print(matrix_1d)"
   ]
  },
  {
   "cell_type": "code",
   "execution_count": 45,
   "id": "a02b027d",
   "metadata": {},
   "outputs": [
    {
     "name": "stdout",
     "output_type": "stream",
     "text": [
      "[1, 8, 27, 64, 125, 216]\n"
     ]
    }
   ],
   "source": [
    "matrix_2d=[[1,2,3],[4,5,6]]\n",
    "matrix_1d= [num**3 for row in matrix_2d for num in row]\n",
    "print(matrix_1d)"
   ]
  },
  {
   "cell_type": "code",
   "execution_count": null,
   "id": "a51ed2ab",
   "metadata": {},
   "outputs": [],
   "source": [
    "matrix_2d=[[1,2,3],[4,5,6]]\n",
    "matrix_1d= [num for row in matrix_2d for num in row]\n",
    "print(matrix_1d)"
   ]
  },
  {
   "cell_type": "code",
   "execution_count": 52,
   "id": "dc8416ac",
   "metadata": {},
   "outputs": [
    {
     "name": "stdout",
     "output_type": "stream",
     "text": [
      "A random number between 0 and 1 is : 0.9182339859627745\n"
     ]
    }
   ],
   "source": [
    "import random\n",
    "  \n",
    "# using random() to generate a random number\n",
    "# between 0 and 1\n",
    "print(\"A random number between 0 and 1 is : \", end=\"\")\n",
    "print(random.random())"
   ]
  },
  {
   "cell_type": "code",
   "execution_count": 62,
   "id": "6b6a83d6",
   "metadata": {},
   "outputs": [
    {
     "name": "stdout",
     "output_type": "stream",
     "text": [
      "A random number between 0 and 5 is : 3\n"
     ]
    }
   ],
   "source": [
    "import random\n",
    "  \n",
    "# using random() to generate a random number\n",
    "# between 0 and 1\n",
    "print(\"A random number between 0 and 5 is : \", end=\"\")\n",
    "print(int(random.randrange(1,9)))"
   ]
  },
  {
   "cell_type": "code",
   "execution_count": 63,
   "id": "0fc7244f",
   "metadata": {},
   "outputs": [
    {
     "name": "stdout",
     "output_type": "stream",
     "text": [
      "My nm H.M.Mhd Hsn\n"
     ]
    }
   ],
   "source": [
    "##Remove vowel from sentence\n",
    "\n",
    "vowels='aeiou'\n",
    "sentence= 'My name H.M.Mehedi Hasan'\n",
    "\n",
    "filtered_letter= []\n",
    "\n",
    "for letter in sentence:\n",
    "    if letter not in vowels:\n",
    "        filtered_letter.append(letter)\n",
    "        \n",
    "print(''.join(filtered_letter))\n",
    "\n"
   ]
  },
  {
   "cell_type": "code",
   "execution_count": 65,
   "id": "7fe79f73",
   "metadata": {},
   "outputs": [
    {
     "name": "stdout",
     "output_type": "stream",
     "text": [
      "My nm H.M.Mhd Hsn\n"
     ]
    }
   ],
   "source": [
    "vowels='aeiou'\n",
    "sentence= 'My name H.M.Mehedi Hasan'\n",
    "\n",
    "filtered_letter=[letter for letter in sentence if letter not in vowels]\n",
    "\n",
    "print(''.join(filtered_letter))"
   ]
  },
  {
   "cell_type": "code",
   "execution_count": 67,
   "id": "ce5c1a0b",
   "metadata": {},
   "outputs": [
    {
     "name": "stdout",
     "output_type": "stream",
     "text": [
      "{1: 'banana', 2: 'mango', 3: 'apple'}\n"
     ]
    }
   ],
   "source": [
    "######Dictionary Comprehention\n",
    "\n",
    "fruit_ranking= [1,2,3]\n",
    "fruit_name =['banana','mango','apple']\n",
    "\n",
    "fruit_rank_dict={}\n",
    "\n",
    "for i in range(len(fruit_ranking)):\n",
    "    \n",
    "               fruit_rank_dict[fruit_ranking[i]]= fruit_name[i]\n",
    "\n",
    "print(fruit_rank_dict)\n",
    "\n"
   ]
  },
  {
   "cell_type": "code",
   "execution_count": 73,
   "id": "7f0f0374",
   "metadata": {},
   "outputs": [
    {
     "name": "stdout",
     "output_type": "stream",
     "text": [
      "{1: 'banana', 2: 'mango', 3: 'apple'}\n"
     ]
    }
   ],
   "source": [
    "fruit_ranking= [1,2,3,4]\n",
    "fruit_name =['banana','mango','apple']\n",
    "\n",
    "fruit_rank_dict={fruit_ranking[i] : fruit_name[i] for i in range(len(fruit_name))}\n",
    "\n",
    "\n",
    "print(fruit_rank_dict)\n",
    "\n"
   ]
  },
  {
   "cell_type": "code",
   "execution_count": 74,
   "id": "e4d2b84a",
   "metadata": {},
   "outputs": [
    {
     "name": "stdout",
     "output_type": "stream",
     "text": [
      "Hello World!\n",
      "Hello World!\n"
     ]
    }
   ],
   "source": [
    "################## Function calling ###########\n",
    "# Defining the function named hello\n",
    "def hello():\n",
    "    print(\"Hello World!\")\n",
    "\n",
    "# Calling the function to use it\n",
    "hello()    \n",
    "\n",
    "# Again calling the function\n",
    "hello()\n"
   ]
  },
  {
   "cell_type": "code",
   "execution_count": 75,
   "id": "7f39732b",
   "metadata": {},
   "outputs": [
    {
     "name": "stdout",
     "output_type": "stream",
     "text": [
      "4\n",
      "200\n"
     ]
    }
   ],
   "source": [
    "def show_double(x):\n",
    "    print(x*2)\n",
    "\n",
    "show_double(2)\n",
    "show_double(100)"
   ]
  },
  {
   "cell_type": "code",
   "execution_count": 76,
   "id": "3969a05e",
   "metadata": {},
   "outputs": [
    {
     "name": "stdout",
     "output_type": "stream",
     "text": [
      "10\n",
      "655\n"
     ]
    }
   ],
   "source": [
    "def make_sum(x,y):\n",
    "    z=x+y\n",
    "    print(z)\n",
    "make_sum(5,5)\n",
    "make_sum(555,100)"
   ]
  },
  {
   "cell_type": "code",
   "execution_count": 77,
   "id": "787c3285",
   "metadata": {},
   "outputs": [
    {
     "name": "stdout",
     "output_type": "stream",
     "text": [
      "15\n"
     ]
    },
    {
     "ename": "NameError",
     "evalue": "name 'z' is not defined",
     "output_type": "error",
     "traceback": [
      "\u001b[0;31m---------------------------------------------------------------------------\u001b[0m",
      "\u001b[0;31mNameError\u001b[0m                                 Traceback (most recent call last)",
      "Input \u001b[0;32mIn [77]\u001b[0m, in \u001b[0;36m<cell line: 6>\u001b[0;34m()\u001b[0m\n\u001b[1;32m      3\u001b[0m     \u001b[38;5;28mprint\u001b[39m(z)\n\u001b[1;32m      5\u001b[0m make_sum(\u001b[38;5;241m5\u001b[39m, \u001b[38;5;241m10\u001b[39m)\n\u001b[0;32m----> 6\u001b[0m \u001b[38;5;28mprint\u001b[39m(\u001b[43mz\u001b[49m)\n",
      "\u001b[0;31mNameError\u001b[0m: name 'z' is not defined"
     ]
    }
   ],
   "source": [
    "def make_sum(x, y):\n",
    "    z = x + y\n",
    "    print(z)\n",
    "\n",
    "make_sum(5, 10)\n",
    "print(z)"
   ]
  },
  {
   "cell_type": "code",
   "execution_count": 79,
   "id": "c7626f49",
   "metadata": {},
   "outputs": [
    {
     "name": "stdout",
     "output_type": "stream",
     "text": [
      "100\n"
     ]
    }
   ],
   "source": [
    "##########333\n",
    "def make_sum(*args):\n",
    "    sum=0\n",
    "    \n",
    "    for num in args:\n",
    "        sum+=num\n",
    "    return sum\n",
    "\n",
    "print(make_sum(10,20,30,40))\n"
   ]
  },
  {
   "cell_type": "code",
   "execution_count": 80,
   "id": "faa0fa92",
   "metadata": {},
   "outputs": [
    {
     "ename": "TypeError",
     "evalue": "print_dict() got an unexpected keyword argument 'a'",
     "output_type": "error",
     "traceback": [
      "\u001b[0;31m---------------------------------------------------------------------------\u001b[0m",
      "\u001b[0;31mTypeError\u001b[0m                                 Traceback (most recent call last)",
      "Input \u001b[0;32mIn [80]\u001b[0m, in \u001b[0;36m<cell line: 5>\u001b[0;34m()\u001b[0m\n\u001b[1;32m      1\u001b[0m \u001b[38;5;28;01mdef\u001b[39;00m \u001b[38;5;21mprint_dict\u001b[39m(\u001b[38;5;241m*\u001b[39margs):\n\u001b[1;32m      2\u001b[0m     \u001b[38;5;28mprint\u001b[39m (args)\n\u001b[0;32m----> 5\u001b[0m \u001b[43mprint_dict\u001b[49m\u001b[43m(\u001b[49m\u001b[43ma\u001b[49m\u001b[38;5;241;43m=\u001b[39;49m\u001b[38;5;241;43m1\u001b[39;49m\u001b[43m,\u001b[49m\u001b[43m \u001b[49m\u001b[43mb\u001b[49m\u001b[38;5;241;43m=\u001b[39;49m\u001b[38;5;241;43m2\u001b[39;49m\u001b[43m)\u001b[49m\n",
      "\u001b[0;31mTypeError\u001b[0m: print_dict() got an unexpected keyword argument 'a'"
     ]
    }
   ],
   "source": [
    "def print_dict(*args):\n",
    "    print (args)\n",
    "\n",
    "\n",
    "print_dict(a=1, b=2)"
   ]
  },
  {
   "cell_type": "code",
   "execution_count": 81,
   "id": "f032a4fc",
   "metadata": {},
   "outputs": [
    {
     "name": "stdout",
     "output_type": "stream",
     "text": [
      "{'a': 1, 'b': 2, 'c': 3}\n"
     ]
    }
   ],
   "source": [
    "def print_dict(**kwargs):\n",
    "    print(kwargs)\n",
    "\n",
    "\n",
    "print_dict(a=1, b=2, c=3)"
   ]
  },
  {
   "cell_type": "code",
   "execution_count": 85,
   "id": "7c493d1e",
   "metadata": {},
   "outputs": [
    {
     "name": "stdout",
     "output_type": "stream",
     "text": [
      "a  :   1\n",
      "b  :   2\n",
      "c  :   3\n"
     ]
    }
   ],
   "source": [
    "def print_dict(**kwargs):\n",
    "    for args in kwargs:\n",
    "        print(\"{0}  :   {1}\".format(args,kwargs[args]))\n",
    "\n",
    "        \n",
    "print_dict(a=1,b=2,c=3)\n"
   ]
  },
  {
   "cell_type": "code",
   "execution_count": 86,
   "id": "9934f0d4",
   "metadata": {},
   "outputs": [
    {
     "name": "stdout",
     "output_type": "stream",
     "text": [
      "10\n",
      "(20, 30)\n",
      "{'b': 3, 'c': 56}\n"
     ]
    }
   ],
   "source": [
    "def print_all(a,*args,**kwargs):\n",
    "    print(a)\n",
    "    print(args)\n",
    "    print(kwargs)\n",
    "print_all(10,20,30,b=3,c=56)"
   ]
  },
  {
   "cell_type": "code",
   "execution_count": 90,
   "id": "3558c754",
   "metadata": {},
   "outputs": [
    {
     "name": "stdout",
     "output_type": "stream",
     "text": [
      "454545\n"
     ]
    }
   ],
   "source": [
    "def get_larger(x,y):\n",
    "    if x>y:\n",
    "        return x\n",
    "    else:\n",
    "        return y\n",
    "large= get_larger(454545,4545)\n",
    "print(large)"
   ]
  },
  {
   "cell_type": "code",
   "execution_count": 92,
   "id": "5bf72e7b",
   "metadata": {},
   "outputs": [
    {
     "name": "stdout",
     "output_type": "stream",
     "text": [
      "9\n"
     ]
    }
   ],
   "source": [
    "def add_numbers(x, y):\n",
    "    total = x + y\n",
    "    return total\n",
    "    \n",
    "    \n",
    "    print(\"This won't be printed\")\n",
    "\n",
    "print(add_numbers(4, 5))"
   ]
  },
  {
   "cell_type": "code",
   "execution_count": 93,
   "id": "011fc90f",
   "metadata": {},
   "outputs": [
    {
     "name": "stdout",
     "output_type": "stream",
     "text": [
      "Hello world!!!\n"
     ]
    }
   ],
   "source": [
    "def beautify(text):\n",
    "    return text + '!!!'\n",
    "\n",
    "\n",
    "def make_line(func, words):\n",
    "    return \"Hello \" + func(words)\n",
    "\n",
    "\n",
    "print(make_line(beautify, \"world\"))"
   ]
  },
  {
   "cell_type": "code",
   "execution_count": null,
   "id": "bde66832",
   "metadata": {},
   "outputs": [],
   "source": [
    "def beauty(text):\n",
    "    return text + '!!!'\n",
    "\n",
    "def make_line(func,words):\n",
    "    return \"hello\" + func(words)"
   ]
  },
  {
   "cell_type": "code",
   "execution_count": 94,
   "id": "f812e90d",
   "metadata": {},
   "outputs": [
    {
     "name": "stdout",
     "output_type": "stream",
     "text": [
      "72\n"
     ]
    }
   ],
   "source": [
    "import random \n",
    "\n",
    "value =random.randint(1,100)\n",
    "print(value)"
   ]
  },
  {
   "cell_type": "code",
   "execution_count": 95,
   "id": "ca9d3c28",
   "metadata": {},
   "outputs": [
    {
     "name": "stdout",
     "output_type": "stream",
     "text": [
      "3.141592653589793\n",
      "15.968719422671311\n"
     ]
    }
   ],
   "source": [
    "from math import pi,sqrt\n",
    "print(pi)\n",
    "print(sqrt(255))"
   ]
  },
  {
   "cell_type": "code",
   "execution_count": 96,
   "id": "feb6b974",
   "metadata": {},
   "outputs": [
    {
     "name": "stdout",
     "output_type": "stream",
     "text": [
      "5.0\n"
     ]
    }
   ],
   "source": [
    "from math import sqrt as square_root\n",
    "\n",
    "print(square_root(25))"
   ]
  },
  {
   "cell_type": "code",
   "execution_count": 99,
   "id": "1969a6ee",
   "metadata": {},
   "outputs": [
    {
     "name": "stdout",
     "output_type": "stream",
     "text": [
      "Enter a divisor to divide 1000: 0\n",
      "You entered 0 which is not permitted \n"
     ]
    }
   ],
   "source": [
    "####Eception handiling\n",
    "try:\n",
    "    a=1000\n",
    "    b=int(input(\"Enter a divisor to divide 1000: \"))\n",
    "    print(a/b)\n",
    "except ZeroDivisionError:\n",
    "    print(\"You entered 0 which is not permitted \")"
   ]
  },
  {
   "cell_type": "code",
   "execution_count": 100,
   "id": "680a4198",
   "metadata": {},
   "outputs": [
    {
     "name": "stdout",
     "output_type": "stream",
     "text": [
      "Type or value error occurred\n"
     ]
    }
   ],
   "source": [
    "try:\n",
    "    variable = 10\n",
    "    print(variable + \"hello\")\n",
    "    print(variable / 2)\n",
    "except ZeroDivisionError:\n",
    "    print(\"Divided by zero\")\n",
    "except (ValueError, TypeError):\n",
    "    print(\"Type or value error occurred\")"
   ]
  },
  {
   "cell_type": "code",
   "execution_count": 102,
   "id": "43d0801e",
   "metadata": {},
   "outputs": [
    {
     "name": "stdout",
     "output_type": "stream",
     "text": [
      "Hello Arif\n",
      "Divied by Zero\n",
      "This code will run no matter what\n"
     ]
    }
   ],
   "source": [
    "#Finally\n",
    "try:\n",
    "    print(\"Hello Arif\")\n",
    "    print(1/0)\n",
    "except ZeroDivisionError:\n",
    "    print(\"Divied by Zero\")\n",
    "finally:\n",
    "    print(\"This code will run no matter what\")\n",
    "    "
   ]
  },
  {
   "cell_type": "code",
   "execution_count": 103,
   "id": "1584fe47",
   "metadata": {},
   "outputs": [
    {
     "name": "stdout",
     "output_type": "stream",
     "text": [
      "Type or value error occurred\n"
     ]
    }
   ],
   "source": [
    "try:\n",
    "    variable = 10\n",
    "    print(variable + \"hello\")\n",
    "    print(variable / 2)\n",
    "except ZeroDivisionError:\n",
    "    print(\"Divided by zero\")\n",
    "except (ValueError, TypeError):\n",
    "    print(\"Type or value error occurred\")"
   ]
  },
  {
   "cell_type": "code",
   "execution_count": 104,
   "id": "7b42a187",
   "metadata": {},
   "outputs": [
    {
     "name": "stdout",
     "output_type": "stream",
     "text": [
      "1\n",
      "This is executed last\n"
     ]
    },
    {
     "ename": "NameError",
     "evalue": "name 'unknown_var' is not defined",
     "output_type": "error",
     "traceback": [
      "\u001b[0;31m---------------------------------------------------------------------------\u001b[0m",
      "\u001b[0;31mZeroDivisionError\u001b[0m                         Traceback (most recent call last)",
      "Input \u001b[0;32mIn [104]\u001b[0m, in \u001b[0;36m<cell line: 1>\u001b[0;34m()\u001b[0m\n\u001b[1;32m      2\u001b[0m    \u001b[38;5;28mprint\u001b[39m(\u001b[38;5;241m1\u001b[39m)\n\u001b[0;32m----> 3\u001b[0m    \u001b[38;5;28mprint\u001b[39m(\u001b[38;5;241;43m10\u001b[39;49m\u001b[43m \u001b[49m\u001b[38;5;241;43m/\u001b[39;49m\u001b[43m \u001b[49m\u001b[38;5;241;43m0\u001b[39;49m)\n\u001b[1;32m      4\u001b[0m \u001b[38;5;28;01mexcept\u001b[39;00m \u001b[38;5;167;01mZeroDivisionError\u001b[39;00m:\n",
      "\u001b[0;31mZeroDivisionError\u001b[0m: division by zero",
      "\nDuring handling of the above exception, another exception occurred:\n",
      "\u001b[0;31mNameError\u001b[0m                                 Traceback (most recent call last)",
      "Input \u001b[0;32mIn [104]\u001b[0m, in \u001b[0;36m<cell line: 1>\u001b[0;34m()\u001b[0m\n\u001b[1;32m      3\u001b[0m    \u001b[38;5;28mprint\u001b[39m(\u001b[38;5;241m10\u001b[39m \u001b[38;5;241m/\u001b[39m \u001b[38;5;241m0\u001b[39m)\n\u001b[1;32m      4\u001b[0m \u001b[38;5;28;01mexcept\u001b[39;00m \u001b[38;5;167;01mZeroDivisionError\u001b[39;00m:\n\u001b[0;32m----> 5\u001b[0m    \u001b[38;5;28mprint\u001b[39m(\u001b[43munknown_var\u001b[49m)\n\u001b[1;32m      6\u001b[0m \u001b[38;5;28;01mfinally\u001b[39;00m:\n\u001b[1;32m      7\u001b[0m    \u001b[38;5;28mprint\u001b[39m(\u001b[38;5;124m\"\u001b[39m\u001b[38;5;124mThis is executed last\u001b[39m\u001b[38;5;124m\"\u001b[39m)\n",
      "\u001b[0;31mNameError\u001b[0m: name 'unknown_var' is not defined"
     ]
    }
   ],
   "source": [
    "try:\n",
    "   print(1)\n",
    "   print(10 / 0)\n",
    "except ZeroDivisionError:\n",
    "   print(unknown_var)\n",
    "finally:\n",
    "   print(\"This is executed last\")"
   ]
  },
  {
   "cell_type": "code",
   "execution_count": 105,
   "id": "446d460b",
   "metadata": {},
   "outputs": [
    {
     "name": "stdout",
     "output_type": "stream",
     "text": [
      "Hello\n"
     ]
    },
    {
     "ename": "NameError",
     "evalue": "HiThere",
     "output_type": "error",
     "traceback": [
      "\u001b[0;31m---------------------------------------------------------------------------\u001b[0m",
      "\u001b[0;31mNameError\u001b[0m                                 Traceback (most recent call last)",
      "Input \u001b[0;32mIn [105]\u001b[0m, in \u001b[0;36m<cell line: 2>\u001b[0;34m()\u001b[0m\n\u001b[1;32m      1\u001b[0m \u001b[38;5;28mprint\u001b[39m(\u001b[38;5;124m\"\u001b[39m\u001b[38;5;124mHello\u001b[39m\u001b[38;5;124m\"\u001b[39m)\n\u001b[0;32m----> 2\u001b[0m \u001b[38;5;28;01mraise\u001b[39;00m \u001b[38;5;167;01mNameError\u001b[39;00m(\u001b[38;5;124m'\u001b[39m\u001b[38;5;124mHiThere\u001b[39m\u001b[38;5;124m'\u001b[39m)\n",
      "\u001b[0;31mNameError\u001b[0m: HiThere"
     ]
    }
   ],
   "source": [
    "print(\"Hello\")\n",
    "raise NameError('HiThere')"
   ]
  },
  {
   "cell_type": "code",
   "execution_count": 118,
   "id": "f5e6fd85",
   "metadata": {},
   "outputs": [
    {
     "name": "stdout",
     "output_type": "stream",
     "text": [
      " Recent Repositories\n",
      "\n",
      "    Deep-Learning-Guide\n",
      "    NSLabTeam/Deep-Learning-Guide\n",
      "    data-structure-algorithm\n",
      "    NSLabTeam/data-structure-algorithm\n",
      "    python-basic\n",
      "    NSLabTeam/python-basic\n",
      "    ML-Basics\n",
      "    NSLabTeam/ML-Basics\n",
      "    nsl-study-materials\n",
      "    hmbadhon-robotics/nsl-study-materials\n",
      "    Learning-Python3\n",
      "    hmbadhon-robotics/Learning-Python3\n",
      "\n",
      "Recent activity\n",
      "\n",
      "When you take actions across GitHub, we’ll provide links to that activity here.\n",
      "The home for all developers — including you.\n",
      "\n",
      "Welcome to your personal dashboard, where you can find an introduction to how GitHub works, tools to help you build software, and help merging your first lines of code.\n",
      "Start writing code\n",
      "Start a new repository\n",
      "\n",
      "Collaborate on code with others and track your work in a repository.\n",
      "Create your profile README\n",
      "\n",
      "Create a file in a repository that tells the GitHub community who you are.\n",
      "Contribute to an existing repository\n",
      "\n",
      "Find repos that need your help \n",
      "\n",
      "Use tools of the trade\n",
      "Write code in your web browser\n",
      "github.dev\n",
      "\n",
      "Use the github.dev web-based editor from your repository or pull request to create and commit changes.\n",
      "Install a powerful code editor\n",
      "Visual Studio Code\n",
      "\n",
      "Visual Studio Code is a multi-platform code editor optimized for building and debugging software.\n",
      "Set up your local dev environment\n",
      "GitHub CLI\n",
      "\n",
      "After you set up Git, simplify your \n",
      "\n"
     ]
    }
   ],
   "source": [
    "file_to_work = open(\"bd.txt\",\"r\")\n",
    "content= file_to_work.read()\n",
    "\n",
    "print(content)\n",
    "\n",
    "file_to_work.close()\n"
   ]
  },
  {
   "cell_type": "code",
   "execution_count": 117,
   "id": "69b05ef0",
   "metadata": {},
   "outputs": [
    {
     "name": "stdout",
     "output_type": "stream",
     "text": [
      "/home/nsl47/Desktop/HMB/Code\r\n"
     ]
    }
   ],
   "source": [
    "!pwd"
   ]
  },
  {
   "cell_type": "code",
   "execution_count": 119,
   "id": "c259754e",
   "metadata": {},
   "outputs": [
    {
     "name": "stdout",
     "output_type": "stream",
     "text": [
      " \n",
      "Rece\n",
      "nt Repositories\n",
      "\n",
      "    Deep-Learning-Guide\n",
      "    NSLabTeam/Deep-Learning-Guide\n",
      "    data-structure-algorithm\n",
      "    NSLabTeam/data-structure-algorithm\n",
      "    python-basic\n",
      "    NSLabTeam/python-basic\n",
      "    ML-Basics\n",
      "    NSLabTeam/ML-Basics\n",
      "    nsl-study-materials\n",
      "    hmbadhon-robotics/nsl-study-materials\n",
      "    Learning-Python3\n",
      "    hmbadhon-robotics/Learning-Python3\n",
      "\n",
      "Recent activity\n",
      "\n",
      "When you take actions across GitHub, we’ll provide links to that activity here.\n",
      "The home for all developers — including you.\n",
      "\n",
      "Welcome to your personal dashboard, where you can find an introduction to how GitHub works, tools to help you build software, and help merging your first lines of code.\n",
      "Start writing code\n",
      "Start a new repository\n",
      "\n",
      "Collaborate on code with others and track your work in a repository.\n",
      "Create your profile README\n",
      "\n",
      "Create a file in a repository that tells the GitHub community who you are.\n",
      "Contribute to an existing repository\n",
      "\n",
      "Find repos that need your help \n",
      "\n",
      "Use tools of the trade\n",
      "Write code in your web browser\n",
      "github.dev\n",
      "\n",
      "Use the github.dev web-based editor from your repository or pull request to create and commit changes.\n",
      "Install a powerful code editor\n",
      "Visual Studio Code\n",
      "\n",
      "Visual Studio Code is a multi-platform code editor optimized for building and debugging software.\n",
      "Set up your local dev environment\n",
      "GitHub CLI\n",
      "\n",
      "After you set up Git, simplify your \n",
      "\n"
     ]
    }
   ],
   "source": [
    "file_to_work = open(\"bd.txt\", \"r\")\n",
    "\n",
    "just_one_character = file_to_work.read(1)\n",
    "print(just_one_character)\n",
    "\n",
    "remaining_four_characters = file_to_work.read(4)\n",
    "print(remaining_four_characters)\n",
    "\n",
    "rest_of_the_file = file_to_work.read()\n",
    "print(rest_of_the_file)\n",
    "\n",
    "file_to_work.close()"
   ]
  },
  {
   "cell_type": "code",
   "execution_count": 121,
   "id": "21d2f7fe",
   "metadata": {},
   "outputs": [
    {
     "name": "stdout",
     "output_type": "stream",
     "text": [
      "I am writing!!!\n"
     ]
    }
   ],
   "source": [
    "file_to_work = open(\"bda.txt\", \"w\")\n",
    "file_to_work.write(\"I am writing!!!\")\n",
    "file_to_work.close()\n",
    "\n",
    "file_to_work = open(\"bda.txt\", \"r\")\n",
    "print(file_to_work.read())\n",
    "file_to_work.close()"
   ]
  },
  {
   "cell_type": "code",
   "execution_count": 122,
   "id": "efb1213e",
   "metadata": {},
   "outputs": [
    {
     "name": "stdout",
     "output_type": "stream",
     "text": [
      "Yes, 15 byte(s) has been written!\n"
     ]
    }
   ],
   "source": [
    "file_to_work = open(\"Test.txt\", \"w\")\n",
    "is_writing_done = file_to_work.write(\"I am writing!!!\")\n",
    "\n",
    "if is_writing_done:\n",
    "    print(\"Yes, {0} byte(s) has been written!\".format(is_writing_done))\n",
    "file_to_work.close()"
   ]
  },
  {
   "cell_type": "code",
   "execution_count": 123,
   "id": "8f6f18f1",
   "metadata": {},
   "outputs": [
    {
     "name": "stdout",
     "output_type": "stream",
     "text": [
      "I am writing!!!\n"
     ]
    }
   ],
   "source": [
    "#####################\n",
    "try:\n",
    "    file_to_work = open(\"Test.txt\", \"r\")\n",
    "    content = file_to_work.read()\n",
    "    print(content)\n",
    "finally:\n",
    "    file_to_work.close()\n"
   ]
  },
  {
   "cell_type": "code",
   "execution_count": null,
   "id": "9a02f12c",
   "metadata": {},
   "outputs": [],
   "source": [
    "with open(\"Test.txt\") as f:\n",
    "    print(f.read())"
   ]
  },
  {
   "cell_type": "code",
   "execution_count": 127,
   "id": "fb2d7cdc",
   "metadata": {},
   "outputs": [
    {
     "name": "stdout",
     "output_type": "stream",
     "text": [
      "5\n",
      "Stuart 1\n"
     ]
    }
   ],
   "source": [
    "s = input()\n",
    "\n",
    "vowels = 'AEIOU'\n",
    "\n",
    "kevsc = 0\n",
    "stusc = 0\n",
    "for i in range(len(s)):\n",
    "    if s[i] in vowels:\n",
    "        kevsc += (len(s)-i)\n",
    "    else:\n",
    "        stusc += (len(s)-i)\n",
    "\n",
    "if kevsc > stusc:\n",
    "    print(\"Kevin\", kevsc)\n",
    "elif kevsc < stusc:\n",
    "    print(\"Stuart\", stusc)\n",
    "else:\n",
    "    print(\"Draw\")"
   ]
  },
  {
   "cell_type": "code",
   "execution_count": null,
   "id": "f86c4605",
   "metadata": {},
   "outputs": [],
   "source": []
  },
  {
   "cell_type": "code",
   "execution_count": null,
   "id": "7db8cd05",
   "metadata": {},
   "outputs": [],
   "source": []
  },
  {
   "cell_type": "code",
   "execution_count": null,
   "id": "45469d76",
   "metadata": {},
   "outputs": [],
   "source": []
  },
  {
   "cell_type": "code",
   "execution_count": null,
   "id": "4ee9ff51",
   "metadata": {},
   "outputs": [],
   "source": []
  }
 ],
 "metadata": {
  "kernelspec": {
   "display_name": "Python 3 (ipykernel)",
   "language": "python",
   "name": "python3"
  },
  "language_info": {
   "codemirror_mode": {
    "name": "ipython",
    "version": 3
   },
   "file_extension": ".py",
   "mimetype": "text/x-python",
   "name": "python",
   "nbconvert_exporter": "python",
   "pygments_lexer": "ipython3",
   "version": "3.9.12"
  }
 },
 "nbformat": 4,
 "nbformat_minor": 5
}
